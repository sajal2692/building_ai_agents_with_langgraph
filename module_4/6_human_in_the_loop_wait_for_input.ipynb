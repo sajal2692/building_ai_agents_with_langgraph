{
 "cells": [
  {
   "cell_type": "markdown",
   "metadata": {},
   "source": [
    "# Adding Human-in-the-Loop Functionality to the Agent: Wait for User Input\n",
    "\n",
    "In this tutorial, we will enhance our chatbot agent by integrating a human-in-the-loop step where the agent waits for user input to proceed. This is particularly useful when the agent needs clarification or additional information from the user before continuing with its task.\n",
    "\n",
    "For simplicity, we'll use only the Tavily search tool in this tutorial.\n",
    "\n",
    "\n"
   ]
  },
  {
   "cell_type": "markdown",
   "metadata": {},
   "source": [
    "### Imports\n",
    "We start by importing the necessary libraries:"
   ]
  },
  {
   "cell_type": "code",
   "execution_count": 1,
   "metadata": {},
   "outputs": [],
   "source": [
    "from langchain_openai import ChatOpenAI\n",
    "from langchain_community.tools import TavilySearchResults\n",
    "from langgraph.graph import StateGraph, START, END\n",
    "from langgraph.graph.message import add_messages\n",
    "from langgraph.prebuilt import ToolNode\n",
    "from langgraph.checkpoint.memory import MemorySaver\n",
    "from langchain_core.tools import tool\n",
    "from pydantic import BaseModel\n",
    "\n",
    "from typing import Annotated\n",
    "from typing_extensions import TypedDict\n",
    "\n",
    "from dotenv import load_dotenv\n",
    "_ = load_dotenv()\n"
   ]
  },
  {
   "cell_type": "markdown",
   "metadata": {},
   "source": [
    "### Setup and Configuration\n",
    "We define the model, tools, and the graph structure. Take note of the `AskUser` tool, which is used to ask the user clarifying questions. This is a separate node in the graph, and the agent will be interrupted before executing this node."
   ]
  },
  {
   "cell_type": "code",
   "execution_count": 11,
   "metadata": {},
   "outputs": [
    {
     "data": {
      "text/plain": [
       "<langgraph.graph.state.StateGraph at 0x131563aa0>"
      ]
     },
     "execution_count": 11,
     "metadata": {},
     "output_type": "execute_result"
    }
   ],
   "source": [
    "# Defining the model\n",
    "llm = ChatOpenAI(model=\"gpt-4o\")\n",
    "\n",
    "# Defining the search tool\n",
    "tavily_search = TavilySearchResults(max_results=2)\n",
    "\n",
    "# this is new\n",
    "class AskUser(BaseModel):\n",
    "    \"\"\"Tool for the agent to ask the user clarifying questions. Use this when you need more information about the user's input.\"\"\"\n",
    "    question: str\n",
    "\n",
    "# List of tools for the agent\n",
    "tools = [tavily_search, AskUser]\n",
    "\n",
    "# Binding tools to the LLM\n",
    "llm_with_tools = llm.bind_tools(tools)\n",
    "\n",
    "# Defining the StateGraph\n",
    "class State(TypedDict):\n",
    "    messages: Annotated[list, add_messages]\n",
    "\n",
    "graph_builder = StateGraph(State)\n",
    "\n",
    "# Defining the nodes\n",
    "def agent_node(state: State):\n",
    "    return {\"messages\": [llm_with_tools.invoke(state[\"messages\"])]}\n",
    "\n",
    "graph_builder.add_node(\"agent\", agent_node)\n",
    "\n",
    "tool_node = ToolNode(tools=[tavily_search])\n",
    "graph_builder.add_node(\"tool_node\", tool_node)\n",
    "\n",
    "def ask_user_node(state: State):\n",
    "    \"\"\"Placeholder node for human interaction.\"\"\"\n",
    "    pass  # This node will be interrupted before execution\n",
    "\n",
    "graph_builder.add_node(\"ask_user\", ask_user_node)\n"
   ]
  },
  {
   "cell_type": "markdown",
   "metadata": {},
   "source": [
    "### Defining the Workflow\n",
    "\n",
    "We define how the agent transitions between nodes and where interruptions occur. In particular, we add a conditional edge that checks the agent's output and decides whether to interrupt at the `ask_user` node or to proceed to the `tool_node`.\n"
   ]
  },
  {
   "cell_type": "code",
   "execution_count": 12,
   "metadata": {},
   "outputs": [
    {
     "data": {
      "text/plain": [
       "<langgraph.graph.state.StateGraph at 0x131563aa0>"
      ]
     },
     "execution_count": 12,
     "metadata": {},
     "output_type": "execute_result"
    }
   ],
   "source": [
    "# Function to determine the next node based on the agent's output\n",
    "def routing_condition(state):\n",
    "    messages = state[\"messages\"]\n",
    "    last_message = messages[-1]\n",
    "    if not last_message.tool_calls:\n",
    "        return END\n",
    "    elif last_message.tool_calls[0][\"name\"] == \"AskUser\":\n",
    "        return \"ask_user\"\n",
    "    else:\n",
    "        return \"tool_node\"\n",
    "\n",
    "# Adding conditional edges\n",
    "graph_builder.add_conditional_edges(\n",
    "    \"agent\",\n",
    "    routing_condition,\n",
    "    {END: END, \"ask_user\": \"ask_user\", \"tool_node\": \"tool_node\"}\n",
    ")\n",
    "\n",
    "# Defining edges\n",
    "graph_builder.add_edge(\"tool_node\", \"agent\")\n",
    "graph_builder.add_edge(\"ask_user\", \"agent\")\n",
    "graph_builder.set_entry_point(\"agent\")\n"
   ]
  },
  {
   "cell_type": "markdown",
   "metadata": {},
   "source": [
    "### Setting Up Human-in-the-Loop Interaction\n",
    "We set up checkpointing for the conversation state and compile the graph with interruption before the ask_user node. This allows the agent to pause and wait for user input."
   ]
  },
  {
   "cell_type": "code",
   "execution_count": 13,
   "metadata": {},
   "outputs": [],
   "source": [
    "# Setting up checkpointing for conversation state\n",
    "memory = MemorySaver()\n",
    "\n",
    "# Compiling the graph with interruption before 'ask_user' node\n",
    "graph = graph_builder.compile(\n",
    "    checkpointer=memory,\n",
    "    interrupt_before=[\"ask_user\"]  # Interrupt before executing 'ask_user' node\n",
    ")\n"
   ]
  },
  {
   "cell_type": "markdown",
   "metadata": {},
   "source": [
    "### Visualizing the Agent's Workflow\n",
    "We can visualize the agent's workflow using LangGraph's graph visualization tools. This helps us understand how the agent transitions between nodes and where the interruptions occur.\n",
    "\n"
   ]
  },
  {
   "cell_type": "code",
   "execution_count": 14,
   "metadata": {},
   "outputs": [
    {
     "data": {
      "image/jpeg": "[encoded data removed]",
      "text/plain": [
       "<IPython.core.display.Image object>"
      ]
     },
     "metadata": {},
     "output_type": "display_data"
    }
   ],
   "source": [
    "from IPython.display import display, Image\n",
    "\n",
    "# Visualize the agent's workflow\n",
    "try:\n",
    "    display(Image(graph.get_graph().draw_mermaid_png()))\n",
    "except Exception:\n",
    "    pass  # Visualization requires additional dependencies\n"
   ]
  },
  {
   "cell_type": "markdown",
   "metadata": {},
   "source": [
    "### Testing the Human-in-the-Loop Functionality\n",
    "Let's test the agent with a query that requires additional information from the user.\n"
   ]
  },
  {
   "cell_type": "code",
   "execution_count": 15,
   "metadata": {},
   "outputs": [
    {
     "name": "stdout",
     "output_type": "stream",
     "text": [
      "================================\u001b[1m Human Message \u001b[0m=================================\n",
      "\n",
      "What is the weather?\n",
      "==================================\u001b[1m Ai Message \u001b[0m==================================\n",
      "Tool Calls:\n",
      "  AskUser (call_0ecQliSPsNwdYtPAavHqQmLO)\n",
      " Call ID: call_0ecQliSPsNwdYtPAavHqQmLO\n",
      "  Args:\n",
      "    question: Can you please specify the location for which you want to know the weather?\n"
     ]
    }
   ],
   "source": [
    "# User query that triggers agent to ask for more information\n",
    "user_input = \"What is the weather?\"\n",
    "\n",
    "config = {\"configurable\": {\"thread_id\": \"1\"}}\n",
    "\n",
    "# Invoking the agent\n",
    "events = graph.stream(\n",
    "    {\"messages\": [(\"user\", user_input)]}, config, stream_mode=\"values\"\n",
    ")\n",
    "\n",
    "for event in events:\n",
    "    if \"messages\" in event:\n",
    "        event[\"messages\"][-1].pretty_print()\n"
   ]
  },
  {
   "cell_type": "markdown",
   "metadata": {},
   "source": [
    "The agent realizes it needs more information (the specific region for the weather) and attempts to use the AskUser tool to request clarification. \n",
    "\n",
    "However, before executing the ask_user node, it interrupts and waits for the user's input.\n",
    "\n",
    "### Providing User Input\n",
    "At this point, the agent has paused before executing the ask_user node. We can now provide the user's response.\n",
    "\n",
    "#### Inspecting the State of the Graph\n",
    "\n"
   ]
  },
  {
   "cell_type": "code",
   "execution_count": 16,
   "metadata": {},
   "outputs": [
    {
     "name": "stdout",
     "output_type": "stream",
     "text": [
      "Next node: ('ask_user',)\n"
     ]
    }
   ],
   "source": [
    "# Get the current state\n",
    "snapshot = graph.get_state(config)\n",
    "print(\"Next node:\", snapshot.next)\n"
   ]
  },
  {
   "cell_type": "markdown",
   "metadata": {},
   "source": [
    "#### Continuing the Conversation with User Input\n",
    "We simulate the user's response and update the state accordingly.\n"
   ]
  },
  {
   "cell_type": "code",
   "execution_count": 17,
   "metadata": {},
   "outputs": [
    {
     "data": {
      "text/plain": [
       "{'configurable': {'thread_id': '1',\n",
       "  'checkpoint_ns': '',\n",
       "  'checkpoint_id': '1ef8dfcf-aca9-645c-8002-2f82c228a3be'}}"
      ]
     },
     "execution_count": 17,
     "metadata": {},
     "output_type": "execute_result"
    }
   ],
   "source": [
    "from langchain_core.messages import ToolMessage\n",
    "\n",
    "# Get the tool call ID\n",
    "tool_call_id = snapshot.values[\"messages\"][-1].tool_calls[0][\"id\"]\n",
    "\n",
    "# Create a ToolMessage with the user's response\n",
    "user_response = ToolMessage(\n",
    "    content=\"For Singapore\",\n",
    "    tool_call_id=tool_call_id\n",
    ")\n",
    "\n",
    "# Update the state with the user's response\n",
    "graph.update_state(config, {\"messages\": [user_response]}, as_node=\"ask_user\")\n"
   ]
  },
  {
   "cell_type": "markdown",
   "metadata": {},
   "source": [
    "#### Resuming the Agent's Workflow\n",
    "We can now resume the agent's workflow."
   ]
  },
  {
   "cell_type": "code",
   "execution_count": 18,
   "metadata": {},
   "outputs": [
    {
     "name": "stdout",
     "output_type": "stream",
     "text": [
      "=================================\u001b[1m Tool Message \u001b[0m=================================\n",
      "\n",
      "For Singapore\n",
      "==================================\u001b[1m Ai Message \u001b[0m==================================\n",
      "Tool Calls:\n",
      "  tavily_search_results_json (call_jwFZvMQxlEunH1oCCkBrnnKy)\n",
      " Call ID: call_jwFZvMQxlEunH1oCCkBrnnKy\n",
      "  Args:\n",
      "    query: current weather Singapore\n",
      "=================================\u001b[1m Tool Message \u001b[0m=================================\n",
      "Name: tavily_search_results_json\n",
      "\n",
      "[{\"url\": \"https://www.weatherapi.com/\", \"content\": \"{'location': {'name': 'Singapore', 'region': '', 'country': 'Singapore', 'lat': 1.293, 'lon': 103.856, 'tz_id': 'Asia/Singapore', 'localtime_epoch': 1729330281, 'localtime': '2024-10-19 17:31'}, 'current': {'last_updated_epoch': 1729330200, 'last_updated': '2024-10-19 17:30', 'temp_c': 30.2, 'temp_f': 86.4, 'is_day': 1, 'condition': {'text': 'Partly cloudy', 'icon': '//cdn.weatherapi.com/weather/64x64/day/116.png', 'code': 1003}, 'wind_mph': 7.6, 'wind_kph': 12.2, 'wind_degree': 198, 'wind_dir': 'SSW', 'pressure_mb': 1009.0, 'pressure_in': 29.8, 'precip_mm': 0.03, 'precip_in': 0.0, 'humidity': 66, 'cloud': 75, 'feelslike_c': 35.0, 'feelslike_f': 95.0, 'windchill_c': 29.6, 'windchill_f': 85.2, 'heatindex_c': 33.6, 'heatindex_f': 92.5, 'dewpoint_c': 23.0, 'dewpoint_f': 73.4, 'vis_km': 10.0, 'vis_miles': 6.0, 'uv': 1.9, 'gust_mph': 10.1, 'gust_kph': 16.3}}\"}, {\"url\": \"https://www.weather.gov.sg/2024/10/\", \"content\": \"2          Thundery showers are expected over parts of the island in the afternoon on most days in the first fortnight of October 2024. On 24 September 2024, regional convergence of winds coupled with strong solar heating brought heavy thundery showers over many areas of Singapore in the afternoon. The daily total rainfall of 95.4 mm recorded at Jurong Pier that day was the highest rainfall recorded for the second fortnight of September 2024. 7          The daily maximum temperatures in the second fortnight of September 2024 were above 33 degrees Celsius on most days. 8          Most parts of Singapore recorded above average rainfall in the second fortnight of September 2024.\"}]\n",
      "==================================\u001b[1m Ai Message \u001b[0m==================================\n",
      "\n",
      "The current weather in Singapore is partly cloudy with a temperature of 30.2°C (86.4°F). The wind is coming from the south-southwest at 12.2 kph (7.6 mph), and the humidity level is at 66%. The feels-like temperature is 35.0°C (95.0°F). There is a slight chance of precipitation with 0.03 mm recorded. Visibility is 10 km, and the UV index is 1.9.\n"
     ]
    }
   ],
   "source": [
    "# Continue execution\n",
    "events = graph.stream(None, config, stream_mode=\"values\")\n",
    "\n",
    "for event in events:\n",
    "    if \"messages\" in event:\n",
    "        event[\"messages\"][-1].pretty_print()\n"
   ]
  },
  {
   "cell_type": "markdown",
   "metadata": {},
   "source": [
    "The agent has now used the additional information provided by the user to perform a more specific search and has presented the findings accordingly.\n",
    "\n",
    "### Conclusion\n",
    "Congratulations! You've built an AI agent that waits for user input before proceeding with certain actions. This human-in-the-loop interaction allows the agent to:\n",
    "\n",
    "Pause and ask the user for clarification or additional details.\n",
    "Resume its workflow after receiving the necessary information.\n",
    "Provide more accurate and tailored responses based on user input.\n",
    "This functionality is particularly useful in scenarios where the agent may not have enough information to proceed confidently or when user preferences are essential for the task at hand.\n",
    "\n",
    "Feel free to experiment further by adding more tools or customizing the interruption logic to suit your specific use cases."
   ]
  }
 ],
 "metadata": {
  "kernelspec": {
   "display_name": ".venv",
   "language": "python",
   "name": "python3"
  },
  "language_info": {
   "codemirror_mode": {
    "name": "ipython",
    "version": 3
   },
   "file_extension": ".py",
   "mimetype": "text/x-python",
   "name": "python",
   "nbconvert_exporter": "python",
   "pygments_lexer": "ipython3",
   "version": "3.12.5"
  }
 },
 "nbformat": 4,
 "nbformat_minor": 2
}
