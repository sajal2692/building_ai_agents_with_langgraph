{
 "cells": [
  {
   "cell_type": "markdown",
   "metadata": {},
   "source": [
    "# Building a Chatbot Agent in LangGraph\n",
    "\n",
    "In this tutorial, we will build a support chatbot using LangGraph. We will implement this chatbot via a graph workflow using nodes and edges.\n",
    "\n",
    "The chatbot will:\n",
    "\n",
    "- Answer common questions by searching the web.\n",
    "- Use custom tools to enhance its capabilities.\n",
    "- Maintain conversation state across calls.\n",
    "\n",
    "This tutorial builds the foundation for more complex workflows and design patterns later in the course."
   ]
  },
  {
   "cell_type": "markdown",
   "metadata": {},
   "source": [
    "### Imports\n",
    "We start by importing the necessary libraries:"
   ]
  },
  {
   "cell_type": "code",
   "execution_count": 6,
   "metadata": {},
   "outputs": [],
   "source": [
    "from langchain_openai import ChatOpenAI\n",
    "from langchain_community.tools import TavilySearchResults\n",
    "from langchain_core.tools import tool\n",
    "from langgraph.graph import StateGraph\n",
    "from langgraph.graph.message import add_messages\n",
    "from langgraph.prebuilt import ToolNode, tools_condition\n",
    "\n",
    "from datetime import datetime\n",
    "from typing import Annotated\n",
    "from typing_extensions import TypedDict\n",
    "\n",
    "from dotenv import load_dotenv\n",
    "_ = load_dotenv()"
   ]
  },
  {
   "cell_type": "markdown",
   "metadata": {},
   "source": [
    "### Defining the Model\n",
    "Initialize the language model:"
   ]
  },
  {
   "cell_type": "code",
   "execution_count": 7,
   "metadata": {},
   "outputs": [],
   "source": [
    "llm = ChatOpenAI(model=\"gpt-4o\")"
   ]
  },
  {
   "cell_type": "markdown",
   "metadata": {},
   "source": [
    "### Defining the Tools\n",
    "We will define two tools:\n",
    "\n",
    "- Tavily Search Tool: To fetch relevant information from the web.\n",
    "- Current Date and Time Tool: Helps the chatbot respond to time-based queries.\n"
   ]
  },
  {
   "cell_type": "code",
   "execution_count": 8,
   "metadata": {},
   "outputs": [],
   "source": [
    "# Tavily Search Tool\n",
    "tavily_search = TavilySearchResults(max_results=2)\n",
    "\n",
    "# Current Date and Time Tool\n",
    "@tool\n",
    "def get_current_date():\n",
    "    \"\"\"Returns the current date and time. Use this tool first for any time-based queries.\"\"\"\n",
    "    return f\"The current date is: {datetime.now().strftime('%d %B %Y')}\""
   ]
  },
  {
   "cell_type": "code",
   "execution_count": 9,
   "metadata": {},
   "outputs": [],
   "source": [
    "# list of tools for the agent\n",
    "tools = [tavily_search, get_current_date]"
   ]
  },
  {
   "cell_type": "markdown",
   "metadata": {},
   "source": [
    "### Defining the StateGraph\n",
    "We define the state of our chatbot using StateGraph. The State consists of a messages list, which will store the conversation history.\n"
   ]
  },
  {
   "cell_type": "code",
   "execution_count": 10,
   "metadata": {},
   "outputs": [],
   "source": [
    "class State(TypedDict):\n",
    "    messages: Annotated[list, add_messages]\n",
    "\n",
    "graph_builder = StateGraph(State)"
   ]
  },
  {
   "cell_type": "markdown",
   "metadata": {},
   "source": [
    "### Binding Tools to the LLM\n",
    "We bind the tools to the language model:"
   ]
  },
  {
   "cell_type": "code",
   "execution_count": 5,
   "metadata": {},
   "outputs": [],
   "source": [
    "llm_with_tools = llm.bind_tools(tools)"
   ]
  },
  {
   "cell_type": "markdown",
   "metadata": {},
   "source": [
    "### Defining the Graph Nodes\n",
    "We define a chatbot node, which represents the LLM's response generation. We also define a tool node to handle tool calls."
   ]
  },
  {
   "cell_type": "code",
   "execution_count": 11,
   "metadata": {},
   "outputs": [
    {
     "data": {
      "text/plain": [
       "<langgraph.graph.state.StateGraph at 0x11709b3b0>"
      ]
     },
     "execution_count": 11,
     "metadata": {},
     "output_type": "execute_result"
    }
   ],
   "source": [
    "def chatbot(state: State):\n",
    "    return {\"messages\": [llm_with_tools.invoke(state[\"messages\"])]}\n",
    "\n",
    "graph_builder.add_node(\"chatbot\", chatbot)"
   ]
  },
  {
   "cell_type": "code",
   "execution_count": 12,
   "metadata": {},
   "outputs": [
    {
     "data": {
      "text/plain": [
       "<langgraph.graph.state.StateGraph at 0x11709b3b0>"
      ]
     },
     "execution_count": 12,
     "metadata": {},
     "output_type": "execute_result"
    }
   ],
   "source": [
    "tool_node = ToolNode(tools=tools)\n",
    "graph_builder.add_node(\"tools\", tool_node)"
   ]
  },
  {
   "cell_type": "markdown",
   "metadata": {},
   "source": [
    "### Defining the Graph Edges\n",
    "We define how the chatbot transitions between nodes:"
   ]
  },
  {
   "cell_type": "code",
   "execution_count": 13,
   "metadata": {},
   "outputs": [
    {
     "data": {
      "text/plain": [
       "<langgraph.graph.state.StateGraph at 0x11709b3b0>"
      ]
     },
     "execution_count": 13,
     "metadata": {},
     "output_type": "execute_result"
    }
   ],
   "source": [
    "# Conditional edge to decide whether to use tools, this is a prebuilt conditional edge\n",
    "graph_builder.add_conditional_edges(\"chatbot\", tools_condition)\n",
    "\n",
    "# If tools are used, return to the chatbot to process the tool output\n",
    "graph_builder.add_edge(\"tools\", \"chatbot\")\n",
    "\n",
    "# Set the entry point of the graph\n",
    "graph_builder.set_entry_point(\"chatbot\")"
   ]
  },
  {
   "cell_type": "markdown",
   "metadata": {},
   "source": [
    "### Compiling the Graph\n",
    "We compile the graph to create a runnable chatbot:"
   ]
  },
  {
   "cell_type": "code",
   "execution_count": 16,
   "metadata": {},
   "outputs": [],
   "source": [
    "graph = graph_builder.compile()"
   ]
  },
  {
   "cell_type": "markdown",
   "metadata": {
    "vscode": {
     "languageId": "bat"
    }
   },
   "source": [
    "### Visualizing the Chatbot's Workflow\n",
    "We can visualize the chatbot's workflow using LangGraph's graph visualization tools:"
   ]
  },
  {
   "cell_type": "code",
   "execution_count": 17,
   "metadata": {},
   "outputs": [
    {
     "data": {
      "image/jpeg": "[encoded data removed]",
      "text/plain": [
       "<IPython.core.display.Image object>"
      ]
     },
     "metadata": {},
     "output_type": "display_data"
    }
   ],
   "source": [
    "from IPython.display import display, Image\n",
    "\n",
    "# Visualize the chatbot's workflow\n",
    "try:\n",
    "    display(Image(graph.get_graph().draw_mermaid_png()))\n",
    "except Exception:\n",
    "    pass  # Visualization requires additional dependencies"
   ]
  },
  {
   "cell_type": "markdown",
   "metadata": {},
   "source": [
    "### Running the Chatbot\n",
    "Now, we can interact with our chatbot.\n",
    "\n",
    "#### Helper Functions\n",
    "We define helper functions to process and render the chatbot's responses:"
   ]
  },
  {
   "cell_type": "code",
   "execution_count": 18,
   "metadata": {},
   "outputs": [],
   "source": [
    "from IPython.display import Markdown, display\n",
    "\n",
    "def render_markdown(md_string):\n",
    "    display(Markdown(md_string))\n",
    "\n",
    "def process_stream(stream):\n",
    "    for s in stream:\n",
    "        message = s[\"messages\"][-1]\n",
    "        if isinstance(message, tuple):\n",
    "            print(message)\n",
    "        else:\n",
    "            message.pretty_print()\n",
    "    return message\n",
    "\n",
    "def process_query(query, config=None):\n",
    "    inputs = {\"messages\": [(\"user\", query)]}\n",
    "    message = process_stream(graph.stream(inputs, config, stream_mode=\"values\"))\n",
    "    render_markdown(f\"## Answer:\\n{message.content}\")\n"
   ]
  },
  {
   "cell_type": "markdown",
   "metadata": {},
   "source": [
    "#### Testing the Chatbot\n",
    "We can now test the chatbot with various queries:"
   ]
  },
  {
   "cell_type": "code",
   "execution_count": 19,
   "metadata": {},
   "outputs": [
    {
     "name": "stdout",
     "output_type": "stream",
     "text": [
      "================================\u001b[1m Human Message \u001b[0m=================================\n",
      "\n",
      "Hello! What can you do?\n",
      "==================================\u001b[1m Ai Message \u001b[0m==================================\n",
      "\n",
      "Hello! I can assist you with a variety of tasks, including:\n",
      "\n",
      "1. **Answering Questions**: Whether it's general knowledge or specific topics, feel free to ask!\n",
      "2. **Providing Current Information**: I can look up current events, news, and other timely information.\n",
      "3. **Time and Date Queries**: I can tell you the current time and date.\n",
      "4. **Search**: I can perform searches to find information on a wide range of topics.\n",
      "\n",
      "If there's anything specific you'd like help with, just let me know!\n"
     ]
    },
    {
     "data": {
      "text/markdown": [
       "## Answer:\n",
       "Hello! I can assist you with a variety of tasks, including:\n",
       "\n",
       "1. **Answering Questions**: Whether it's general knowledge or specific topics, feel free to ask!\n",
       "2. **Providing Current Information**: I can look up current events, news, and other timely information.\n",
       "3. **Time and Date Queries**: I can tell you the current time and date.\n",
       "4. **Search**: I can perform searches to find information on a wide range of topics.\n",
       "\n",
       "If there's anything specific you'd like help with, just let me know!"
      ],
      "text/plain": [
       "<IPython.core.display.Markdown object>"
      ]
     },
     "metadata": {},
     "output_type": "display_data"
    }
   ],
   "source": [
    "process_query(\"Hello! What can you do?\")"
   ]
  },
  {
   "cell_type": "code",
   "execution_count": 20,
   "metadata": {},
   "outputs": [
    {
     "name": "stdout",
     "output_type": "stream",
     "text": [
      "================================\u001b[1m Human Message \u001b[0m=================================\n",
      "\n",
      "What is the current date?\n",
      "==================================\u001b[1m Ai Message \u001b[0m==================================\n",
      "Tool Calls:\n",
      "  get_current_date (call_AEVJxkXDagKxvILm29YDOwPb)\n",
      " Call ID: call_AEVJxkXDagKxvILm29YDOwPb\n",
      "  Args:\n",
      "=================================\u001b[1m Tool Message \u001b[0m=================================\n",
      "Name: get_current_date\n",
      "\n",
      "The current date is: 13 October 2024\n",
      "==================================\u001b[1m Ai Message \u001b[0m==================================\n",
      "\n",
      "Today's date is October 13, 2024.\n"
     ]
    },
    {
     "data": {
      "text/markdown": [
       "## Answer:\n",
       "Today's date is October 13, 2024."
      ],
      "text/plain": [
       "<IPython.core.display.Markdown object>"
      ]
     },
     "metadata": {},
     "output_type": "display_data"
    }
   ],
   "source": [
    "# Query that requires current date\n",
    "process_query(\"What is the current date?\")"
   ]
  },
  {
   "cell_type": "code",
   "execution_count": 21,
   "metadata": {},
   "outputs": [
    {
     "name": "stdout",
     "output_type": "stream",
     "text": [
      "================================\u001b[1m Human Message \u001b[0m=================================\n",
      "\n",
      "What is LangGraph?\n",
      "==================================\u001b[1m Ai Message \u001b[0m==================================\n",
      "Tool Calls:\n",
      "  tavily_search_results_json (call_Z4bKvtOuM7taoliLy2tg2hrl)\n",
      " Call ID: call_Z4bKvtOuM7taoliLy2tg2hrl\n",
      "  Args:\n",
      "    query: LangGraph\n",
      "=================================\u001b[1m Tool Message \u001b[0m=================================\n",
      "Name: tavily_search_results_json\n",
      "\n",
      "[{\"url\": \"https://langchain-ai.github.io/langgraph/\", \"content\": \"LangGraph is a low-level framework that allows you to create stateful, multi-actor applications with LLMs, using cycles, controllability, and persistence. Learn how to use LangGraph with LangChain, LangSmith, and Anthropic tools to build agent and multi-agent workflows.\"}, {\"url\": \"https://github.com/langchain-ai/langgraph\", \"content\": \"LangGraph is a library for creating stateful, multi-actor applications with LLMs, using cycles, controllability, and persistence. Learn how to use LangGraph with LangChain, LangSmith, and Anthropic tools to build agent and multi-agent workflows.\"}]\n",
      "==================================\u001b[1m Ai Message \u001b[0m==================================\n",
      "\n",
      "LangGraph is a low-level framework designed for creating stateful, multi-actor applications using Large Language Models (LLMs). It focuses on features such as cycles, controllability, and persistence. LangGraph can be used in conjunction with tools like LangChain, LangSmith, and Anthropic to build agent and multi-agent workflows. For more detailed information, you can visit the [LangGraph documentation](https://langchain-ai.github.io/langgraph/) or check out its [GitHub repository](https://github.com/langchain-ai/langgraph).\n"
     ]
    },
    {
     "data": {
      "text/markdown": [
       "## Answer:\n",
       "LangGraph is a low-level framework designed for creating stateful, multi-actor applications using Large Language Models (LLMs). It focuses on features such as cycles, controllability, and persistence. LangGraph can be used in conjunction with tools like LangChain, LangSmith, and Anthropic to build agent and multi-agent workflows. For more detailed information, you can visit the [LangGraph documentation](https://langchain-ai.github.io/langgraph/) or check out its [GitHub repository](https://github.com/langchain-ai/langgraph)."
      ],
      "text/plain": [
       "<IPython.core.display.Markdown object>"
      ]
     },
     "metadata": {},
     "output_type": "display_data"
    }
   ],
   "source": [
    "# Query that triggers the Tavily search tool\n",
    "process_query(\"What is LangGraph?\")"
   ]
  },
  {
   "cell_type": "code",
   "execution_count": 23,
   "metadata": {},
   "outputs": [
    {
     "name": "stdout",
     "output_type": "stream",
     "text": [
      "================================\u001b[1m Human Message \u001b[0m=================================\n",
      "\n",
      "When is the next olympics?\n",
      "==================================\u001b[1m Ai Message \u001b[0m==================================\n",
      "Tool Calls:\n",
      "  get_current_date (call_gYV0h2obitM3FQt6LImpDBBE)\n",
      " Call ID: call_gYV0h2obitM3FQt6LImpDBBE\n",
      "  Args:\n",
      "=================================\u001b[1m Tool Message \u001b[0m=================================\n",
      "Name: get_current_date\n",
      "\n",
      "The current date is: 13 October 2024\n",
      "==================================\u001b[1m Ai Message \u001b[0m==================================\n",
      "Tool Calls:\n",
      "  tavily_search_results_json (call_FJ2f0fsiZhPwy8sjEyj5oeHx)\n",
      " Call ID: call_FJ2f0fsiZhPwy8sjEyj5oeHx\n",
      "  Args:\n",
      "    query: next Olympics date\n",
      "=================================\u001b[1m Tool Message \u001b[0m=================================\n",
      "Name: tavily_search_results_json\n",
      "\n",
      "[{\"url\": \"https://olympics.com/ioc/faq/future-olympic-games/where-will-the-next-olympic-games-be-held\", \"content\": \"Future Olympic Games. Where will the next Olympic Games be held? In Milan and Cortina d'Ampezzo, in Italy, from 6 to 22 February 2026. (Winter Games) In Los Angeles, USA, from 14 to 30 July 2028. (Summer Games) In the French Alps in 2030. (Winter Games) In Brisbane, Australia, in 2032.\"}, {\"url\": \"https://www.nbcolympics.com/news/where-and-when-are-next-olympics-paris-2024-dates-schedule-opening-ceremony-and-more\", \"content\": \"A complete overview of the 2024 Paris Olympic Games, taking place from July 26 to August 11, with our guide to dates, venues, sports, athletes, Team USA, schedules and live streams. Find out on everything you need to know ahead of the 2024 Paris Games. ... The next Olympics will be held this summer from Friday, July 26 to Sunday, August 11, 2024.\"}]\n",
      "==================================\u001b[1m Ai Message \u001b[0m==================================\n",
      "\n",
      "The next Olympic Games are the Winter Olympics, which will be held in Milan and Cortina d'Ampezzo, Italy, from February 6 to February 22, 2026.\n"
     ]
    },
    {
     "data": {
      "text/markdown": [
       "## Answer:\n",
       "The next Olympic Games are the Winter Olympics, which will be held in Milan and Cortina d'Ampezzo, Italy, from February 6 to February 22, 2026."
      ],
      "text/plain": [
       "<IPython.core.display.Markdown object>"
      ]
     },
     "metadata": {},
     "output_type": "display_data"
    }
   ],
   "source": [
    "# Time-based query about an event\n",
    "process_query(\"When is the next olympics?\")"
   ]
  },
  {
   "cell_type": "markdown",
   "metadata": {},
   "source": [
    "## Need for Memory\n",
    "\n",
    "Taking a look at an example of where the current chatbot falls short when remembering previous interactions."
   ]
  },
  {
   "cell_type": "code",
   "execution_count": 24,
   "metadata": {},
   "outputs": [
    {
     "name": "stdout",
     "output_type": "stream",
     "text": [
      "================================\u001b[1m Human Message \u001b[0m=================================\n",
      "\n",
      "Hi. My name is Sajal. Who are you?\n",
      "==================================\u001b[1m Ai Message \u001b[0m==================================\n",
      "\n",
      "Hello Sajal! I'm an AI assistant here to help you with information, answer questions, and assist with various tasks. If there's anything specific you'd like to know or do, feel free to ask!\n"
     ]
    },
    {
     "data": {
      "text/markdown": [
       "## Answer:\n",
       "Hello Sajal! I'm an AI assistant here to help you with information, answer questions, and assist with various tasks. If there's anything specific you'd like to know or do, feel free to ask!"
      ],
      "text/plain": [
       "<IPython.core.display.Markdown object>"
      ]
     },
     "metadata": {},
     "output_type": "display_data"
    }
   ],
   "source": [
    "process_query(\"Hi. My name is Sajal. Who are you?\")"
   ]
  },
  {
   "cell_type": "code",
   "execution_count": 25,
   "metadata": {},
   "outputs": [
    {
     "name": "stdout",
     "output_type": "stream",
     "text": [
      "================================\u001b[1m Human Message \u001b[0m=================================\n",
      "\n",
      "What is my name?\n",
      "==================================\u001b[1m Ai Message \u001b[0m==================================\n",
      "\n",
      "I'm sorry, but I don't have access to personal data about you, including your name. If you have any questions or need assistance, feel free to let me know!\n"
     ]
    },
    {
     "data": {
      "text/markdown": [
       "## Answer:\n",
       "I'm sorry, but I don't have access to personal data about you, including your name. If you have any questions or need assistance, feel free to let me know!"
      ],
      "text/plain": [
       "<IPython.core.display.Markdown object>"
      ]
     },
     "metadata": {},
     "output_type": "display_data"
    }
   ],
   "source": [
    "process_query(\"What is my name?\")"
   ]
  },
  {
   "cell_type": "markdown",
   "metadata": {},
   "source": [
    "### Adding Memory to the Chatbot\n",
    "To maintain conversation state across calls, we use LangGraph's checkpointing system.\n",
    "\n",
    "#### Setting Up Checkpointing\n",
    "We create a MemorySaver checkpointer:"
   ]
  },
  {
   "cell_type": "code",
   "execution_count": 26,
   "metadata": {},
   "outputs": [],
   "source": [
    "from langgraph.checkpoint.memory import MemorySaver\n",
    "\n",
    "memory = MemorySaver()"
   ]
  },
  {
   "cell_type": "code",
   "execution_count": 27,
   "metadata": {},
   "outputs": [],
   "source": [
    "# Compile the graph with the checkpointer\n",
    "graph = graph_builder.compile(checkpointer=memory)"
   ]
  },
  {
   "cell_type": "markdown",
   "metadata": {},
   "source": [
    "#### Using Thread IDs for Conversation State\n",
    "We can maintain separate conversation threads by providing a thread_id in the configuration:"
   ]
  },
  {
   "cell_type": "code",
   "execution_count": 29,
   "metadata": {},
   "outputs": [
    {
     "name": "stdout",
     "output_type": "stream",
     "text": [
      "================================\u001b[1m Human Message \u001b[0m=================================\n",
      "\n",
      "Hi. My name is Sajal. Who are you?\n",
      "==================================\u001b[1m Ai Message \u001b[0m==================================\n",
      "\n",
      "Hello Sajal! I'm an AI designed to assist with a wide range of questions and tasks. How can I help you today?\n"
     ]
    },
    {
     "data": {
      "text/markdown": [
       "## Answer:\n",
       "Hello Sajal! I'm an AI designed to assist with a wide range of questions and tasks. How can I help you today?"
      ],
      "text/plain": [
       "<IPython.core.display.Markdown object>"
      ]
     },
     "metadata": {},
     "output_type": "display_data"
    }
   ],
   "source": [
    "config_user_1 = {\"thread_id\": \"user_1\"}\n",
    "process_query(\"Hi. My name is Sajal. Who are you?\", config=config_user_1)"
   ]
  },
  {
   "cell_type": "code",
   "execution_count": 30,
   "metadata": {},
   "outputs": [
    {
     "name": "stdout",
     "output_type": "stream",
     "text": [
      "================================\u001b[1m Human Message \u001b[0m=================================\n",
      "\n",
      "What is my name?\n",
      "==================================\u001b[1m Ai Message \u001b[0m==================================\n",
      "\n",
      "Your name is Sajal.\n"
     ]
    },
    {
     "data": {
      "text/markdown": [
       "## Answer:\n",
       "Your name is Sajal."
      ],
      "text/plain": [
       "<IPython.core.display.Markdown object>"
      ]
     },
     "metadata": {},
     "output_type": "display_data"
    }
   ],
   "source": [
    "process_query(\"What is my name?\", config=config_user_1)"
   ]
  },
  {
   "cell_type": "code",
   "execution_count": 31,
   "metadata": {},
   "outputs": [
    {
     "name": "stdout",
     "output_type": "stream",
     "text": [
      "================================\u001b[1m Human Message \u001b[0m=================================\n",
      "\n",
      "What is my name?\n",
      "==================================\u001b[1m Ai Message \u001b[0m==================================\n",
      "\n",
      "I'm sorry, but I don't have access to personal data about users unless it has been shared with me in the course of our conversation. If you tell me your name, I can remember it for the duration of our chat.\n"
     ]
    },
    {
     "data": {
      "text/markdown": [
       "## Answer:\n",
       "I'm sorry, but I don't have access to personal data about users unless it has been shared with me in the course of our conversation. If you tell me your name, I can remember it for the duration of our chat."
      ],
      "text/plain": [
       "<IPython.core.display.Markdown object>"
      ]
     },
     "metadata": {},
     "output_type": "display_data"
    }
   ],
   "source": [
    "# Checking if memory is shared across threads\n",
    "config_user_2 = {\"thread_id\": \"user_2\"}\n",
    "process_query(\"What is my name?\", config=config_user_2)"
   ]
  }
 ],
 "metadata": {
  "kernelspec": {
   "display_name": ".venv",
   "language": "python",
   "name": "python3"
  },
  "language_info": {
   "codemirror_mode": {
    "name": "ipython",
    "version": 3
   },
   "file_extension": ".py",
   "mimetype": "text/x-python",
   "name": "python",
   "nbconvert_exporter": "python",
   "pygments_lexer": "ipython3",
   "version": "3.12.5"
  }
 },
 "nbformat": 4,
 "nbformat_minor": 2
}
