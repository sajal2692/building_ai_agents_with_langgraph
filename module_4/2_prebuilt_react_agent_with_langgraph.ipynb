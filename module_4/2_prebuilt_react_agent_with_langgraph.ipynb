{
 "cells": [
  {
   "cell_type": "markdown",
   "metadata": {},
   "source": [
    "# Using the Prebuilt React Agent with LangGraph\n",
    "\n",
    "In this tutorial, we will use the prebuilt React agent from LangGraph.  The agent will use an external web search tool (Tavily) to respond to user queries.\n",
    "\n"
   ]
  },
  {
   "cell_type": "markdown",
   "metadata": {},
   "source": [
    "### Imports\n",
    "We start by importing the necessary libraries:"
   ]
  },
  {
   "cell_type": "code",
   "execution_count": 65,
   "metadata": {},
   "outputs": [],
   "source": [
    "from langchain_openai import ChatOpenAI\n",
    "from langchain_community.tools import TavilySearchResults\n",
    "from langgraph.prebuilt import create_react_agent\n",
    "\n",
    "from dotenv import load_dotenv\n",
    "_ = load_dotenv()\n"
   ]
  },
  {
   "cell_type": "code",
   "execution_count": 66,
   "metadata": {},
   "outputs": [],
   "source": [
    "# Initialize the model\n",
    "model = ChatOpenAI(model=\"gpt-4o\")"
   ]
  },
  {
   "cell_type": "markdown",
   "metadata": {},
   "source": [
    "### ̉Defining the Tools\n",
    "\n",
    "We will define two tools:\n",
    "- Tavily Search tool to fetch relevant information from the web.\n",
    "- A tool to get the current date and time. This helps the agent to respond to time-based queries.\n"
   ]
  },
  {
   "cell_type": "code",
   "execution_count": 67,
   "metadata": {},
   "outputs": [],
   "source": [
    "tavily_search = TavilySearchResults(max_results=5)\n"
   ]
  },
  {
   "cell_type": "code",
   "execution_count": 68,
   "metadata": {},
   "outputs": [],
   "source": [
    "from langchain_core.tools import tool\n",
    "from datetime import datetime\n",
    "\n",
    "@tool\n",
    "def get_current_date():\n",
    "    \"\"\"Returns the current date and time. Use this tool first for any time-based queries.\"\"\"\n",
    "    return f\"The current date is: {datetime.now().strftime('%d %B %Y')}\""
   ]
  },
  {
   "cell_type": "code",
   "execution_count": 69,
   "metadata": {},
   "outputs": [],
   "source": [
    "\n",
    "# list of tools for the agent\n",
    "tools = [tavily_search, get_current_date]"
   ]
  },
  {
   "cell_type": "markdown",
   "metadata": {},
   "source": [
    "### Creating the ReAct Agent\n",
    "Next, we will use LangGraph's prebuilt ReAct agent structure. The agent will use the provided tools (in this case, Tavily Search) when necessary, based on the user's query."
   ]
  },
  {
   "cell_type": "code",
   "execution_count": 70,
   "metadata": {},
   "outputs": [],
   "source": [
    "graph = create_react_agent(model, tools)"
   ]
  },
  {
   "cell_type": "markdown",
   "metadata": {},
   "source": [
    "### Visualizing the Agent's Decision-Making Flow\n",
    "The ReAct agent has a graph based workflow. We can visualize the workflow using langgraph's in-built graph visualization.\n"
   ]
  },
  {
   "cell_type": "code",
   "execution_count": 71,
   "metadata": {},
   "outputs": [
    {
     "data": {
      "image/jpeg": "[encoded data removed]",
      "text/plain": [
       "<IPython.core.display.Image object>"
      ]
     },
     "metadata": {},
     "output_type": "display_data"
    }
   ],
   "source": [
    "from IPython.display import display, Image\n",
    "\n",
    "# Visualize the agent's decision-making flow\n",
    "display(Image(graph.get_graph().draw_mermaid_png()))"
   ]
  },
  {
   "cell_type": "markdown",
   "metadata": {},
   "source": [
    "### Running the Agent with Queries\n",
    "Now, we can test our agent with different queries."
   ]
  },
  {
   "cell_type": "code",
   "execution_count": 72,
   "metadata": {},
   "outputs": [],
   "source": [
    "# helper function to render markdown\n",
    "from IPython.display import Markdown, display\n",
    "\n",
    "def render_markdown(md_string):\n",
    "    display(Markdown(md_string))"
   ]
  },
  {
   "cell_type": "code",
   "execution_count": 73,
   "metadata": {},
   "outputs": [],
   "source": [
    "# Helper function to stream the agent's response\n",
    "def process_stream(stream):\n",
    "    for s in stream:\n",
    "        message = s[\"messages\"][-1]\n",
    "        if isinstance(message, tuple):\n",
    "            print(message)\n",
    "        else:\n",
    "            message.pretty_print()\n",
    "    # return the last message\n",
    "    return message "
   ]
  },
  {
   "cell_type": "code",
   "execution_count": 74,
   "metadata": {},
   "outputs": [],
   "source": [
    "# helper function to process query\n",
    "def process_query(query):\n",
    "    inputs = {\"messages\": [(\"user\", query)]}\n",
    "    message = process_stream(graph.stream(inputs, stream_mode=\"values\"))\n",
    "    render_markdown(f\"## Answer:\\n{message.content}\")\n"
   ]
  },
  {
   "cell_type": "code",
   "execution_count": 75,
   "metadata": {},
   "outputs": [
    {
     "name": "stdout",
     "output_type": "stream",
     "text": [
      "================================\u001b[1m Human Message \u001b[0m=================================\n",
      "\n",
      "Who won the latest F1 race in singapore?\n",
      "==================================\u001b[1m Ai Message \u001b[0m==================================\n",
      "Tool Calls:\n",
      "  get_current_date (call_eaJNy92Pr0N49vGR9nbblrSC)\n",
      " Call ID: call_eaJNy92Pr0N49vGR9nbblrSC\n",
      "  Args:\n",
      "  tavily_search_results_json (call_QKMDsDQUP09u8dtHwxjWrgwA)\n",
      " Call ID: call_QKMDsDQUP09u8dtHwxjWrgwA\n",
      "  Args:\n",
      "    query: latest F1 race Singapore winner\n",
      "=================================\u001b[1m Tool Message \u001b[0m=================================\n",
      "Name: tavily_search_results_json\n",
      "\n",
      "[{\"url\": \"https://www.nytimes.com/athletic/5785036/2024/09/22/lando-norris-f1-singapore-gp-win/\", \"content\": \"Lando Norris wins F1’s Singapore Grand Prix, tightens title fight with Max Verstappen - The Athletic Lando Norris wins his third Formula One race of the season, taking the Singapore Grand Prix 20 seconds ahead of Max Verstappen. Lewis Hamilton was among the first frontrunners to pit, swapping his soft tires for hard tires on Lap 19. Piastri began taking time out of Verstappen’s laps, moving into second as the Dutchman pitted. But the McLaren driver could feel his tires dropping off, finally pitting for hard tires on Lap 39. In a twist at the end, Daniel Ricciardo pitted for a third time in the final few laps, swapping for a set of soft tires. He was flying, and at the time, Norris had the race’s fastest lap.\"}, {\"url\": \"https://www.motorsport.com/f1/news/f1-singapore-gp-norris-takes-crushing-win-from-verstappen-piastri/10657012/\", \"content\": \"Upd: Sep 23, 2024, 3:18 AM. Lando Norris survived two scares with the wall to dominate the Singapore Grand Prix, beating Max Verstappen by 20.9 seconds to close the championship lead to 52 points ...\"}, {\"url\": \"https://www.gpfans.com/us/f1-news/1030821/f1-singapore-gp-results-today-max-verstappen-dominated-lando-norris-lewis-hamilton/\", \"content\": \"Singapore Grand Prix F1 Results Today: Norris DOMINATES Verstappen as championship battle intensifies ... Elsewhere, it was a miserable race for Lewis Hamilton. The Mercedes star had started the race on the soft tire whilst his rivals opted for a medium, ... Latest F1 News. F1 star 'NO DOUBT' to appear in rival series. Yesterday 22:06 ;\"}, {\"url\": \"https://www.bbc.com/sport/formula1/articles/c79n8dzl2zqo\", \"content\": \"Norris takes dominant Singapore win from Verstappen. McLaren's Lando Norris dominated the Singapore Grand Prix to take a further chunk out of Max Verstappen's advantage in the championship ...\"}, {\"url\": \"https://www.sportingnews.com/us/formula-1/news/who-won-f1-race-today-results-standings-2024-singapore-grand-prix/240f66a8a3d11e35c3a6293f\", \"content\": \"Full results, standings from Singapore Grand Prix 2024 | Sporting News Full results, standings from Singapore Grand Prix 2024 Who won the F1 Singapore Grand Prix? The Mercedes duo of George Russell and Hamilton finished fourth and sixth, respectively, and were split by Ferrari's Leclerc, who enjoyed a late charge. Nico Hulkenberg and Sergio Perez claimed the last two points-paying positions, finishing ahead of impressive Williams rookie Franco Colapinto. F1 Singapore Grand Prix: Driver of the day F1 Singapore Grand Prix: Race results, standings F1 Drivers' World Championship 2024 updated standings, points F1 Constructors' Championship 2024 updated standings, points F1 live stream, TV channel: How to watch races in 2024 Sky Sports F1 While Joshua’s main passions are football, rugby league, basketball and F1, he will watch any sport that's on.\"}]\n",
      "==================================\u001b[1m Ai Message \u001b[0m==================================\n",
      "\n",
      "The latest F1 race in Singapore was won by Lando Norris. He secured victory at the Singapore Grand Prix, finishing 20 seconds ahead of Max Verstappen.\n"
     ]
    },
    {
     "data": {
      "text/markdown": [
       "## Answer:\n",
       "The latest F1 race in Singapore was won by Lando Norris. He secured victory at the Singapore Grand Prix, finishing 20 seconds ahead of Max Verstappen."
      ],
      "text/plain": [
       "<IPython.core.display.Markdown object>"
      ]
     },
     "metadata": {},
     "output_type": "display_data"
    }
   ],
   "source": [
    "# Query that will trigger the Tavily search tool\n",
    "process_query(\"Who won the latest F1 race in singapore?\")"
   ]
  },
  {
   "cell_type": "code",
   "execution_count": 76,
   "metadata": {},
   "outputs": [
    {
     "name": "stdout",
     "output_type": "stream",
     "text": [
      "================================\u001b[1m Human Message \u001b[0m=================================\n",
      "\n",
      "What is the weather in Tokyo tomorrow?\n",
      "==================================\u001b[1m Ai Message \u001b[0m==================================\n",
      "Tool Calls:\n",
      "  get_current_date (call_3xkq4ouWW850oAfVe57LyztP)\n",
      " Call ID: call_3xkq4ouWW850oAfVe57LyztP\n",
      "  Args:\n",
      "  tavily_search_results_json (call_jFYRpqsnip37hwGabz0jrrDv)\n",
      " Call ID: call_jFYRpqsnip37hwGabz0jrrDv\n",
      "  Args:\n",
      "    query: Tokyo weather forecast for tomorrow\n",
      "=================================\u001b[1m Tool Message \u001b[0m=================================\n",
      "Name: tavily_search_results_json\n",
      "\n",
      "[{\"url\": \"https://www.weatherapi.com/\", \"content\": \"{'location': {'name': 'Tokyo', 'region': 'Tokyo', 'country': 'Japan', 'lat': 35.6895, 'lon': 139.6917, 'tz_id': 'Asia/Tokyo', 'localtime_epoch': 1728807510, 'localtime': '2024-10-13 17:18'}, 'current': {'last_updated_epoch': 1728807300, 'last_updated': '2024-10-13 17:15', 'temp_c': 25.3, 'temp_f': 77.5, 'is_day': 0, 'condition': {'text': 'Partly cloudy', 'icon': '//cdn.weatherapi.com/weather/64x64/night/116.png', 'code': 1003}, 'wind_mph': 13.9, 'wind_kph': 22.3, 'wind_degree': 80, 'wind_dir': 'E', 'pressure_mb': 1022.0, 'pressure_in': 30.18, 'precip_mm': 0.0, 'precip_in': 0.0, 'humidity': 47, 'cloud': 25, 'feelslike_c': 26.0, 'feelslike_f': 78.8, 'windchill_c': 24.0, 'windchill_f': 75.2, 'heatindex_c': 25.2, 'heatindex_f': 77.3, 'dewpoint_c': 12.6, 'dewpoint_f': 54.7, 'vis_km': 10.0, 'vis_miles': 6.0, 'uv': 0.0, 'gust_mph': 17.8, 'gust_kph': 28.7}}\"}, {\"url\": \"https://world-weather.info/forecast/japan/tokyo/14-october/\", \"content\": \"Weather in Tokyo, October 14. Weather Forecast for October 14 in Tokyo, Tōkyō-to - temperature, wind, atmospheric pressure, humidity and precipitations. Detailed hourly weather chart. October 12 October 13 Select date: October 15 October 16. October 14, 2024 : Atmospheric conditions and temperature °F: RealFeel °F: Atmospheric\"}, {\"url\": \"https://www.easeweather.com/asia/japan/tokyo/october\", \"content\": \"Weather in Tokyo for October 2024. Until now, October 2024 in Tokyo has been nearly identical to the historical average, with a temperature of 24.6 °C (showing only a slight deviation of 0.4 °C). Expect cooler weather in the next days in Tokyo with the forecast suggesting a temperature of 22.4 °C, lower than the historical average.\"}, {\"url\": \"https://www.weathertab.com/en/c/e/10/japan/tokyo-to/tokyo/\", \"content\": \"Temperature Forecast Normal. Avg High Temps 65 to 75 °F15 to 25 °C. Avg Low Temps 50 to 65 °F10 to 20 °C. Explore comprehensive October 2024 weather forecasts for Tokyo, including daily high and low temperatures, precipitation risks, and monthly temperature trends. Featuring detailed day-by-day forecasts, dynamic graphs of daily rain ...\"}, {\"url\": \"https://world-weather.info/forecast/japan/tokyo/october-2024/\", \"content\": \"Hourly Week 10 days 14 days 30 days Year. Detailed ⚡ Tokyo Weather Forecast for October 2024 - day/night 🌡️ temperatures, precipitations - World-Weather.info.\"}]\n",
      "==================================\u001b[1m Ai Message \u001b[0m==================================\n",
      "\n",
      "The current date is October 13, 2024. Here is the weather forecast for Tokyo tomorrow, October 14, 2024:\n",
      "\n",
      "1. **Temperature**: Expect cooler weather with a temperature around 22.4°C (72.3°F), which is slightly below the historical average for this time of year.\n",
      "\n",
      "2. **Conditions**: It is forecasted to be partly cloudy with no significant precipitation expected.\n",
      "\n",
      "3. **Wind**: The wind conditions will likely remain moderate, with details on speed and direction yet to be specified.\n",
      "\n",
      "For more detailed and hourly updates, you might want to check these resources:\n",
      "- [Weather API](https://www.weatherapi.com/)\n",
      "- [World Weather Info](https://world-weather.info/forecast/japan/tokyo/14-october/)\n",
      "- [Ease Weather](https://www.easeweather.com/asia/japan/tokyo/october)\n"
     ]
    },
    {
     "data": {
      "text/markdown": [
       "## Answer:\n",
       "The current date is October 13, 2024. Here is the weather forecast for Tokyo tomorrow, October 14, 2024:\n",
       "\n",
       "1. **Temperature**: Expect cooler weather with a temperature around 22.4°C (72.3°F), which is slightly below the historical average for this time of year.\n",
       "\n",
       "2. **Conditions**: It is forecasted to be partly cloudy with no significant precipitation expected.\n",
       "\n",
       "3. **Wind**: The wind conditions will likely remain moderate, with details on speed and direction yet to be specified.\n",
       "\n",
       "For more detailed and hourly updates, you might want to check these resources:\n",
       "- [Weather API](https://www.weatherapi.com/)\n",
       "- [World Weather Info](https://world-weather.info/forecast/japan/tokyo/14-october/)\n",
       "- [Ease Weather](https://www.easeweather.com/asia/japan/tokyo/october)"
      ],
      "text/plain": [
       "<IPython.core.display.Markdown object>"
      ]
     },
     "metadata": {},
     "output_type": "display_data"
    }
   ],
   "source": [
    "# Query that will trigger the Tavily search tool\n",
    "process_query(\"What is the weather in Tokyo tomorrow?\")"
   ]
  },
  {
   "cell_type": "code",
   "execution_count": 77,
   "metadata": {},
   "outputs": [
    {
     "name": "stdout",
     "output_type": "stream",
     "text": [
      "================================\u001b[1m Human Message \u001b[0m=================================\n",
      "\n",
      "Is it colder in toronto or singapore today?\n",
      "==================================\u001b[1m Ai Message \u001b[0m==================================\n",
      "Tool Calls:\n",
      "  get_current_date (call_hbXJOkkWeilB2DQGBwbtFVD1)\n",
      " Call ID: call_hbXJOkkWeilB2DQGBwbtFVD1\n",
      "  Args:\n",
      "  tavily_search_results_json (call_EEregihfzLojpWbL3pruSSAU)\n",
      " Call ID: call_EEregihfzLojpWbL3pruSSAU\n",
      "  Args:\n",
      "    query: current weather in Toronto\n",
      "  tavily_search_results_json (call_QEdjjLg9akQgehlbOlFiHL4t)\n",
      " Call ID: call_QEdjjLg9akQgehlbOlFiHL4t\n",
      "  Args:\n",
      "    query: current weather in Singapore\n",
      "=================================\u001b[1m Tool Message \u001b[0m=================================\n",
      "Name: tavily_search_results_json\n",
      "\n",
      "[{\"url\": \"https://www.weatherapi.com/\", \"content\": \"{'location': {'name': 'Singapore', 'region': '', 'country': 'Singapore', 'lat': 1.293, 'lon': 103.856, 'tz_id': 'Asia/Singapore', 'localtime_epoch': 1728807518, 'localtime': '2024-10-13 16:18'}, 'current': {'last_updated_epoch': 1728807300, 'last_updated': '2024-10-13 16:15', 'temp_c': 28.2, 'temp_f': 82.7, 'is_day': 1, 'condition': {'text': 'Light rain shower', 'icon': '//cdn.weatherapi.com/weather/64x64/day/353.png', 'code': 1240}, 'wind_mph': 5.8, 'wind_kph': 9.4, 'wind_degree': 240, 'wind_dir': 'WSW', 'pressure_mb': 1007.0, 'pressure_in': 29.73, 'precip_mm': 0.2, 'precip_in': 0.01, 'humidity': 74, 'cloud': 57, 'feelslike_c': 31.9, 'feelslike_f': 89.4, 'windchill_c': 28.2, 'windchill_f': 82.7, 'heatindex_c': 31.9, 'heatindex_f': 89.4, 'dewpoint_c': 23.2, 'dewpoint_f': 73.8, 'vis_km': 10.0, 'vis_miles': 6.0, 'uv': 5.7, 'gust_mph': 7.7, 'gust_kph': 12.3}}\"}, {\"url\": \"https://tgftp.nws.noaa.gov/weather/current/WSSS.html\", \"content\": \"Current Weather Conditions: Singapore / Changi Airport, Singapore ... 2024.10.10 1930 UTC Wind : Calm : Visibility : greater than 7 mile(s) Sky conditions : mostly cloudy Temperature : 78 F (26 C) Dew Point : 77 F (25 C) ... (13) Oct 10: 80 (27) 77 (25) 29.80 (1009) Variable 2: 8 AM (12) Oct 10: 82 (28) 77 (25) 29.77 (1008) S 3:\"}, {\"url\": \"https://www.easeweather.com/asia/singapore/october\", \"content\": \"Weather in Singapore for October 2024. Until now, October 2024 in Singapore is slightly cooler than the historical average by -0.7 °C. The forecast for the next days in Singapore predicts temperatures to be around 29 °C, close to the historical average. In general, the average temperature in Singapore at the beginning of October is 29.7 °C.\"}, {\"url\": \"https://world-weather.info/forecast/singapore/singapore/october-2024/\", \"content\": \"Weather in Singapore in October 2024 - Detailed Weather Forecast for a Month Add the current city Search Weather Archive Widgets °F World Singapore Weather in Singapore Weather in Singapore in October 2024 Singapore Weather Forecast for October 2024 is based on long term prognosis and previous years' statistical data. JanFebMarAprMayJunJulAugSepOctNovDec October Start Week On Sunday Monday Sun Mon Tue Wed Thu Fri Sat 1 +86°+82° 2 +88°+82° 3 +86°+82° 4 +86°+81° 5 +86°+81° 6 +84°+79° 7 +86°+79° 8 +86°+81° 9 +86°+81° 10 +88°+81° 11 +86°+81° 12 +86°+81° 13 +86°+81° 14 +88°+81° 15 +84°+81° Extended weather forecast in Singapore HourlyWeek10 days14 days30 daysYear world's temperature today day day City or place… Copyright © 2024 «World-Weather.info» All rights reserved. Temperature units\"}, {\"url\": \"https://www.timeanddate.com/weather/singapore/singapore/ext\", \"content\": \"Singapore 14 Day Extended Forecast. Time/General. Weather. Time Zone. DST Changes. Sun & Moon. Weather Today Weather Hourly 14 Day Forecast Yesterday/Past Weather Climate (Averages) Currently: 81 °F. Passing clouds.\"}]\n",
      "==================================\u001b[1m Ai Message \u001b[0m==================================\n",
      "\n",
      "As of October 13, 2024, the current temperatures are:\n",
      "\n",
      "- **Toronto, Canada**: 10.4°C (50.7°F) with partly cloudy conditions.\n",
      "- **Singapore**: 28.2°C (82.7°F) with light rain showers.\n",
      "\n",
      "Therefore, it is colder in Toronto compared to Singapore today.\n"
     ]
    },
    {
     "data": {
      "text/markdown": [
       "## Answer:\n",
       "As of October 13, 2024, the current temperatures are:\n",
       "\n",
       "- **Toronto, Canada**: 10.4°C (50.7°F) with partly cloudy conditions.\n",
       "- **Singapore**: 28.2°C (82.7°F) with light rain showers.\n",
       "\n",
       "Therefore, it is colder in Toronto compared to Singapore today."
      ],
      "text/plain": [
       "<IPython.core.display.Markdown object>"
      ]
     },
     "metadata": {},
     "output_type": "display_data"
    }
   ],
   "source": [
    "# Query that will trigger the Tavily search tool\n",
    "process_query(\"Is it colder in toronto or singapore today?\")"
   ]
  }
 ],
 "metadata": {
  "kernelspec": {
   "display_name": ".venv",
   "language": "python",
   "name": "python3"
  },
  "language_info": {
   "codemirror_mode": {
    "name": "ipython",
    "version": 3
   },
   "file_extension": ".py",
   "mimetype": "text/x-python",
   "name": "python",
   "nbconvert_exporter": "python",
   "pygments_lexer": "ipython3",
   "version": "3.12.5"
  }
 },
 "nbformat": 4,
 "nbformat_minor": 2
}
