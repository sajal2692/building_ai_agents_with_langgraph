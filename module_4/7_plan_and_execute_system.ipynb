{
 "cells": [
  {
   "cell_type": "markdown",
   "metadata": {},
   "source": [
    "# Building a Plan-and-Execute Agent in LangGraph\n",
    "\n",
    "In this tutorial, we will build a plan-and-execute agent using LangGraph. This agent will:\n",
    "\n",
    "- Plan a series of steps to answer complex, multi-step queries.\n",
    "- Execute each step using tools and an LLM.\n",
    "- Re-plan if necessary, updating the plan based on intermediate results.\n",
    "\n",
    "By the end of this tutorial, you'll have a robust agent capable of handling intricate queries by planning and executing tasks systematically."
   ]
  },
  {
   "cell_type": "markdown",
   "metadata": {},
   "source": [
    "### Overview\n",
    "Our agent will:\n",
    "\n",
    "1. Receive a complex query from the user.\n",
    "2. Plan a sequence of steps to answer the query.\n",
    "3. Execute each step, possibly using tools (like web search).\n",
    "4. Re-plan if needed, adjusting the plan based on new information.\n",
    "5. Provide the final answer to the user.\n",
    "\n",
    "\n",
    "### Imports\n",
    "We start by importing the necessary libraries:\n"
   ]
  },
  {
   "cell_type": "code",
   "execution_count": 1,
   "metadata": {},
   "outputs": [],
   "source": [
    "from langchain_openai import ChatOpenAI\n",
    "from langchain_community.tools import TavilySearchResults\n",
    "from langgraph.graph import START, END\n",
    "from langgraph.graph import StateGraph\n",
    "from langgraph.checkpoint.memory import MemorySaver\n",
    "\n",
    "from typing import Annotated, List, Tuple, Union\n",
    "from typing_extensions import TypedDict\n",
    "\n",
    "from pydantic import BaseModel, Field\n",
    "from dotenv import load_dotenv\n",
    "import operator\n",
    "\n",
    "_ = load_dotenv()"
   ]
  },
  {
   "cell_type": "markdown",
   "metadata": {},
   "source": [
    "### Defining the Model\n",
    "We use the gpt-4o model from OpenAI:"
   ]
  },
  {
   "cell_type": "code",
   "execution_count": 24,
   "metadata": {},
   "outputs": [],
   "source": [
    "# Defining the model\n",
    "llm = ChatOpenAI(model=\"gpt-4o-mini\", temperature=0)"
   ]
  },
  {
   "cell_type": "markdown",
   "metadata": {},
   "source": [
    "### Defining the Tools\n",
    "We will define a web search tool using Tavily:"
   ]
  },
  {
   "cell_type": "code",
   "execution_count": 25,
   "metadata": {},
   "outputs": [],
   "source": [
    "# Tavily Search Tool\n",
    "tavily_search = TavilySearchResults(max_results=3)\n",
    "\n",
    "# List of tools for the agent\n",
    "tools = [tavily_search]"
   ]
  },
  {
   "cell_type": "markdown",
   "metadata": {},
   "source": [
    "### Defining the State\n",
    "Our agent needs to maintain state across planning and execution steps. We define the State as follows:"
   ]
  },
  {
   "cell_type": "code",
   "execution_count": 26,
   "metadata": {},
   "outputs": [],
   "source": [
    "class State(TypedDict):\n",
    "    input: str\n",
    "    plan: List[str]\n",
    "    past_steps: Annotated[List[Tuple[str, str]], operator.add]  # List of (step, result)\n",
    "    response: str"
   ]
  },
  {
   "cell_type": "markdown",
   "metadata": {},
   "source": [
    "### Planning Step\n",
    "We create a planning function that generates a plan based on the user's query:"
   ]
  },
  {
   "cell_type": "code",
   "execution_count": 27,
   "metadata": {},
   "outputs": [],
   "source": [
    "class Plan(BaseModel):\n",
    "    \"\"\"Plan to follow in future\"\"\"\n",
    "    steps: List[str] = Field(description=\"A list of steps to achieve the objective.\")\n",
    "\n",
    "from langchain_core.prompts import ChatPromptTemplate\n",
    "\n",
    "planner_prompt = ChatPromptTemplate.from_messages(\n",
    "    [\n",
    "        (\"system\", \"You are a planning assistant that creates a simple, step-by-step plan to answer the user's query.\"),\n",
    "        (\"user\", \"{input}\")\n",
    "    ]\n",
    ")\n",
    "\n",
    "planner = planner_prompt | llm.with_structured_output(Plan)"
   ]
  },
  {
   "cell_type": "markdown",
   "metadata": {},
   "source": [
    "### Re-Plan Step\n",
    "If necessary, the agent can re-plan based on previous results:\n"
   ]
  },
  {
   "cell_type": "code",
   "execution_count": 28,
   "metadata": {},
   "outputs": [],
   "source": [
    "class Response(BaseModel):\n",
    "    \"\"\"Response to the user.\"\"\"\n",
    "    response: str\n",
    "\n",
    "class Act(BaseModel):\n",
    "    \"\"\"Action to perform.\"\"\"\n",
    "    action: Union[Response, Plan] = Field(description=\"The action to perform next.\")\n",
    "\n",
    "replanner_prompt = ChatPromptTemplate.from_template(\n",
    "    \"\"\"\n",
    "    You are a planning assistant that updates the plan based on completed steps and their results.\n",
    "\n",
    "    Objective: {input}\n",
    "    Original Plan: {plan}\n",
    "    Completed Steps: {past_steps}\n",
    "\n",
    "    Update the plan accordingly. If all steps are complete and you can provide the final answer, respond with the answer.\n",
    "    \"\"\"\n",
    ")\n",
    "\n",
    "replanner = replanner_prompt | llm.with_structured_output(Act)"
   ]
  },
  {
   "cell_type": "markdown",
   "metadata": {},
   "source": [
    "### Defining the Execution Agent\n",
    "We shall simply use the `create_react_agent` function to create an execution agent that can perform each step using the defined tools."
   ]
  },
  {
   "cell_type": "code",
   "execution_count": 29,
   "metadata": {},
   "outputs": [],
   "source": [
    "from langgraph.prebuilt import create_react_agent\n",
    "\n",
    "execution_agent = create_react_agent(llm, tools)"
   ]
  },
  {
   "cell_type": "markdown",
   "metadata": {},
   "source": [
    "### Creating the Graph\n",
    "We define the nodes and edges of our LangGraph:"
   ]
  },
  {
   "cell_type": "code",
   "execution_count": 41,
   "metadata": {},
   "outputs": [
    {
     "data": {
      "text/plain": [
       "<langgraph.graph.state.StateGraph at 0x1383aff50>"
      ]
     },
     "execution_count": 41,
     "metadata": {},
     "output_type": "execute_result"
    }
   ],
   "source": [
    "graph_builder = StateGraph(State)\n",
    "\n",
    "# Planning node\n",
    "def planning_node(state: State):\n",
    "    print(\"Executing planning node...\")\n",
    "    plan = planner.invoke({\"input\": state[\"input\"]})\n",
    "    print(f\"Plan created: {plan.steps}\")\n",
    "    return {\"plan\": plan.steps}\n",
    "\n",
    "graph_builder.add_node(\"planner\", planning_node)\n",
    "\n",
    "# Execution node\n",
    "def execution_node(state: State):\n",
    "    print(\"Executing execution node...\")\n",
    "    current_step = state[\"plan\"][0]\n",
    "    print(f\"Current step: {current_step}\")\n",
    "    agent_input = f\"Step: {current_step}\\n\\nPlease execute this step.\"\n",
    "    agent_response = execution_agent.invoke({\"messages\": [(\"user\", agent_input)]})\n",
    "    result = agent_response[\"messages\"][-1].content\n",
    "    print(f\"Step result: {result}\")\n",
    "    return {\n",
    "        \"past_steps\": [(current_step, result)],\n",
    "        \"plan\": state[\"plan\"][1:]  # Remove the executed step from the plan\n",
    "    }\n",
    "\n",
    "graph_builder.add_node(\"executor\", execution_node)\n",
    "\n",
    "# Re-planning node\n",
    "def replanning_node(state: State):\n",
    "    print(\"Executing replanning node...\")\n",
    "    output = replanner.invoke(state)\n",
    "    if isinstance(output.action, Response):\n",
    "        print(f\"Replanning complete. Final response: {output.action.response}\")\n",
    "        return {\"response\": output.action.response}\n",
    "    else:\n",
    "        print(f\"Replanning complete. Updated plan: {output.action.steps}\")\n",
    "        return {\"plan\": output.action.steps}\n",
    "\n",
    "graph_builder.add_node(\"replanner\", replanning_node)\n",
    "\n",
    "# Conditional edge to decide whether to continue or end\n",
    "def should_continue(state: State):\n",
    "    print(\"Evaluating whether to continue...\")\n",
    "    if state.get(\"response\"):\n",
    "        print(\"Final response received. Ending execution.\")\n",
    "        return END\n",
    "    elif state[\"plan\"]:\n",
    "        print(\"Plan steps remaining. Continuing to executor.\")\n",
    "        return \"executor\"\n",
    "    else:\n",
    "        print(\"No plan steps remaining. Moving to replanner.\")\n",
    "        return \"replanner\"\n",
    "\n",
    "graph_builder.add_conditional_edges(\n",
    "    \"replanner\",\n",
    "    should_continue,\n",
    "    {\"executor\": \"executor\", END: END}\n",
    ")\n",
    "\n",
    "# Defining edges\n",
    "graph_builder.add_edge(START, \"planner\")\n",
    "graph_builder.add_edge(\"planner\", \"executor\")\n",
    "graph_builder.add_edge(\"executor\", \"replanner\")\n",
    "graph_builder.set_entry_point(\"planner\")"
   ]
  },
  {
   "cell_type": "markdown",
   "metadata": {},
   "source": [
    "### Compiling the Graph\n",
    "We compile the graph to create a runnable agent:"
   ]
  },
  {
   "cell_type": "code",
   "execution_count": 42,
   "metadata": {},
   "outputs": [],
   "source": [
    "# Setting up checkpointing for state management\n",
    "memory = MemorySaver()\n",
    "\n",
    "# Compiling the graph\n",
    "graph = graph_builder.compile(checkpointer=memory)"
   ]
  },
  {
   "cell_type": "markdown",
   "metadata": {},
   "source": [
    "### Visualizing the Agent's Workflow\n",
    "We can visualize the agent's workflow:"
   ]
  },
  {
   "cell_type": "code",
   "execution_count": 43,
   "metadata": {},
   "outputs": [
    {
     "data": {
      "image/jpeg": "[encoded data removed]",
      "text/plain": [
       "<IPython.core.display.Image object>"
      ]
     },
     "metadata": {},
     "output_type": "display_data"
    }
   ],
   "source": [
    "from IPython.display import display, Image\n",
    "\n",
    "# Visualize the agent's workflow\n",
    "try:\n",
    "    display(Image(graph.get_graph(xray=True).draw_mermaid_png()))\n",
    "except Exception:\n",
    "    pass  # Visualization requires additional dependencies"
   ]
  },
  {
   "cell_type": "markdown",
   "metadata": {},
   "source": [
    "### Running the Agent\n",
    "Now, we can interact with our agent.\n"
   ]
  },
  {
   "cell_type": "code",
   "execution_count": 45,
   "metadata": {},
   "outputs": [
    {
     "name": "stdout",
     "output_type": "stream",
     "text": [
      "Executing planning node...\n",
      "Plan created: ['Identify the country hosting the next FIFA World Cup.', 'Find the capital city of that country.', 'Research the top three tourist attractions in the capital city.']\n",
      "Executing execution node...\n",
      "Current step: Identify the country hosting the next FIFA World Cup.\n",
      "Step result: The next FIFA World Cup in 2026 will be jointly hosted by three countries: the United States, Canada, and Mexico. This tournament will feature an expanded format with 48 teams participating.\n",
      "Executing replanning node...\n",
      "Replanning complete. Final response: The next FIFA World Cup in 2026 will be jointly hosted by the United States, Canada, and Mexico. Here are the top three tourist attractions in the capital cities of each country:\n",
      "\n",
      "### Washington, D.C. (United States)\n",
      "1. **The National Mall and Memorial Parks**: An iconic area with important monuments and memorials.\n",
      "2. **The White House**: The official residence and workplace of the President of the United States.\n",
      "3. **The Smithsonian National Air and Space Museum**: Home to the largest collection of historic aircraft and spacecraft in the world.\n",
      "\n",
      "### Ottawa (Canada)\n",
      "1. **Rideau Canal**: A UNESCO World Heritage Site, popular for boating and ice skating.\n",
      "2. **ByWard Market**: A vibrant neighborhood with a farmers' market, restaurants, and shops.\n",
      "3. **Parliament Hill**: The seat of Canada's federal government with stunning architecture.\n",
      "\n",
      "### Mexico City (Mexico)\n",
      "1. **Zócalo (Plaza Mayor)**: The main square surrounded by historic buildings.\n",
      "2. **National Museum of Anthropology**: Houses an extensive collection of pre-Columbian artifacts.\n",
      "3. **Torre Latinoamericana**: Offers stunning panoramic views of the city from its observation deck.\n",
      "Evaluating whether to continue...\n",
      "Final response received. Ending execution.\n"
     ]
    },
    {
     "data": {
      "text/markdown": [
       "The next FIFA World Cup in 2026 will be jointly hosted by the United States, Canada, and Mexico. Here are the top three tourist attractions in the capital cities of each country:\n",
       "\n",
       "### Washington, D.C. (United States)\n",
       "1. **The National Mall and Memorial Parks**: An iconic area with important monuments and memorials.\n",
       "2. **The White House**: The official residence and workplace of the President of the United States.\n",
       "3. **The Smithsonian National Air and Space Museum**: Home to the largest collection of historic aircraft and spacecraft in the world.\n",
       "\n",
       "### Ottawa (Canada)\n",
       "1. **Rideau Canal**: A UNESCO World Heritage Site, popular for boating and ice skating.\n",
       "2. **ByWard Market**: A vibrant neighborhood with a farmers' market, restaurants, and shops.\n",
       "3. **Parliament Hill**: The seat of Canada's federal government with stunning architecture.\n",
       "\n",
       "### Mexico City (Mexico)\n",
       "1. **Zócalo (Plaza Mayor)**: The main square surrounded by historic buildings.\n",
       "2. **National Museum of Anthropology**: Houses an extensive collection of pre-Columbian artifacts.\n",
       "3. **Torre Latinoamericana**: Offers stunning panoramic views of the city from its observation deck."
      ],
      "text/plain": [
       "<IPython.core.display.Markdown object>"
      ]
     },
     "metadata": {},
     "output_type": "display_data"
    }
   ],
   "source": [
    "from IPython.display import display, Markdown\n",
    "\n",
    "user_query = \"Which country will host the next FIFA World Cup, and what are the top three tourist attractions in its capital city?\"\n",
    "inputs = {\"input\": user_query}\n",
    "config = {\"recursion_limit\": 50, \"configurable\": {\"thread_id\": \"1\"}}\n",
    "events = graph.stream(inputs, config)\n",
    "for event in events:\n",
    "    for k, v in event.items():\n",
    "        if k != \"__end__\":\n",
    "            if isinstance(v, dict) and 'response' in v:\n",
    "                display(Markdown(v['response']))"
   ]
  },
  {
   "cell_type": "markdown",
   "metadata": {},
   "source": [
    "### Conclusion\n",
    "Congratulations! You've built a plan-and-execute agent using LangGraph that can handle complex, multi-step queries by planning and executing tasks systematically.\n",
    "\n",
    "Feel free to experiment further by:\n",
    "\n",
    "- Adding more tools.\n",
    "- Modifying the planning and replanning prompts.\n",
    "- Handling different types of multi-step queries.\n"
   ]
  }
 ],
 "metadata": {
  "kernelspec": {
   "display_name": ".venv",
   "language": "python",
   "name": "python3"
  },
  "language_info": {
   "codemirror_mode": {
    "name": "ipython",
    "version": 3
   },
   "file_extension": ".py",
   "mimetype": "text/x-python",
   "name": "python",
   "nbconvert_exporter": "python",
   "pygments_lexer": "ipython3",
   "version": "3.12.5"
  }
 },
 "nbformat": 4,
 "nbformat_minor": 2
}
