{
 "cells": [
  {
   "cell_type": "markdown",
   "metadata": {},
   "source": [
    "# Building a Trip Planner Application with LangChain\n",
    "\n",
    "In this tutorial, we'll build a simple trip planner using LangChain. The app takes a destination and a few preferences, then outputs a tailored trip plan. We'll use the LangChain Expression Language (LCEL) to chain together components such as prompt templates and LLMs."
   ]
  },
  {
   "cell_type": "markdown",
   "metadata": {},
   "source": [
    "### Imports\n",
    "We start by importing the necessary libraries:"
   ]
  },
  {
   "cell_type": "code",
   "execution_count": 1,
   "metadata": {},
   "outputs": [],
   "source": [
    "from langchain_openai import ChatOpenAI\n",
    "from langchain_core.prompts import ChatPromptTemplate\n",
    "from langchain_core.output_parsers import StrOutputParser\n",
    "\n",
    "from dotenv import load_dotenv\n",
    "_ = load_dotenv()"
   ]
  },
  {
   "cell_type": "markdown",
   "metadata": {},
   "source": [
    "### Define the Language Model\n",
    "We'll use GPT-4 to process user input and generate trip plans."
   ]
  },
  {
   "cell_type": "code",
   "execution_count": 2,
   "metadata": {},
   "outputs": [],
   "source": [
    "model = ChatOpenAI(model=\"gpt-4o\")"
   ]
  },
  {
   "cell_type": "markdown",
   "metadata": {},
   "source": [
    "### Define Prompt Template\n",
    "We use a prompt template to set the context for the LLM to generate personalized trip plans based on user input.\n"
   ]
  },
  {
   "cell_type": "code",
   "execution_count": 18,
   "metadata": {},
   "outputs": [],
   "source": [
    "system_template = \"\"\"\n",
    "You are a trip planner expert. Help me plan a trip to {destination}.\n",
    "Consider my preferences for {preferences}.\n",
    "\"\"\"\n",
    "\n",
    "prompt_template = ChatPromptTemplate.from_messages([\n",
    "    ('system', system_template),\n",
    "    ('user', 'What should I do in {destination}?')\n",
    "])"
   ]
  },
  {
   "cell_type": "markdown",
   "metadata": {},
   "source": [
    "### Output Parsing\n",
    "We use a simple output parser to extract the LLM's response as a string."
   ]
  },
  {
   "cell_type": "code",
   "execution_count": 19,
   "metadata": {},
   "outputs": [],
   "source": [
    "parser = StrOutputParser()"
   ]
  },
  {
   "cell_type": "markdown",
   "metadata": {},
   "source": [
    "### Chain Components Together\n",
    "We now chain the prompt template, model, and output parser to process input and output."
   ]
  },
  {
   "cell_type": "code",
   "execution_count": 20,
   "metadata": {},
   "outputs": [],
   "source": [
    "trip_planner_chain = prompt_template | model | parser"
   ]
  },
  {
   "cell_type": "markdown",
   "metadata": {},
   "source": [
    "### Query the Model\n",
    "We define a function to run a query through the trip planner."
   ]
  },
  {
   "cell_type": "code",
   "execution_count": 21,
   "metadata": {},
   "outputs": [],
   "source": [
    "def plan_trip(destination, preferences):\n",
    "    input_data = {\"destination\": destination, \"preferences\": preferences}\n",
    "    return trip_planner_chain.invoke(input_data)"
   ]
  },
  {
   "cell_type": "code",
   "execution_count": 22,
   "metadata": {},
   "outputs": [],
   "source": [
    "# helper function to render markdown\n",
    "from IPython.display import Markdown, display\n",
    "\n",
    "def render_markdown(md_string):\n",
    "    display(Markdown(md_string))"
   ]
  },
  {
   "cell_type": "markdown",
   "metadata": {},
   "source": [
    "### Running the Trip Planner\n",
    "Now, let's run the trip planner with different inputs:"
   ]
  },
  {
   "cell_type": "code",
   "execution_count": 23,
   "metadata": {},
   "outputs": [
    {
     "data": {
      "text/markdown": [
       "Paris is a city rich in culture, history, and charm, offering a plethora of experiences that cater to your interests in museums, cafes, and historical sites. Here’s a suggested itinerary to help you make the most of your trip:\n",
       "\n",
       "### Day 1: Explore Historic Sites\n",
       "- **Morning:**\n",
       "  - **Notre-Dame Cathedral:** Start your day by visiting this iconic Gothic cathedral. Although it's under restoration, it's still impressive from the outside.\n",
       "  - **Île de la Cité:** Wander around this historic island in the Seine, where Paris was founded.\n",
       "  \n",
       "- **Afternoon:**\n",
       "  - **Sainte-Chapelle:** Marvel at the stunning stained-glass windows in this jewel-box chapel.\n",
       "  - **Pont Neuf:** Stroll across the oldest standing bridge across the Seine.\n",
       "\n",
       "- **Evening:**\n",
       "  - **Latin Quarter:** Enjoy dinner at one of the many charming cafes and bistros. Explore the narrow streets and vibrant atmosphere.\n",
       "\n",
       "### Day 2: Museum Day\n",
       "- **Morning:**\n",
       "  - **Louvre Museum:** Spend the morning exploring the world’s largest art museum. Don’t miss the Mona Lisa and the Venus de Milo.\n",
       "\n",
       "- **Afternoon:**\n",
       "  - **Musée d'Orsay:** Head to this museum housed in a former railway station to see a vast collection of Impressionist and Post-Impressionist masterpieces.\n",
       "\n",
       "- **Evening:**\n",
       "  - **Saint-Germain-des-Prés:** Have dinner in this chic neighborhood, known for its historic cafes like Café de Flore and Les Deux Magots.\n",
       "\n",
       "### Day 3: Cultural and Café Experience\n",
       "- **Morning:**\n",
       "  - **Montmartre:** Visit the Sacré-Cœur Basilica for panoramic views of Paris. Explore the artistic history in this bohemian area and see the Place du Tertre.\n",
       "\n",
       "- **Afternoon:**\n",
       "  - **Musée de l'Orangerie:** See Monet’s Water Lilies and other artworks in this intimate museum in the Tuileries Garden.\n",
       "  - **Café Stop:** Take a break at a classic café like Angelina for their famous hot chocolate.\n",
       "\n",
       "- **Evening:**\n",
       "  - **Seine River Cruise:** Enjoy a scenic cruise along the Seine to see Paris's landmarks illuminated at night.\n",
       "\n",
       "### Day 4: Dive into Parisian Life\n",
       "- **Morning:**\n",
       "  - **Le Marais:** Explore this historic district with its trendy boutiques and charming streets. Don’t miss the Picasso Museum.\n",
       "\n",
       "- **Afternoon:**\n",
       "  - **Palace of Versailles:** Take a short train ride to visit this opulent palace and its magnificent gardens.\n",
       "\n",
       "- **Evening:**\n",
       "  - **Return to Paris:** Have dinner at a traditional Parisian brasserie, such as Bouillon Pigalle.\n",
       "\n",
       "### Tips:\n",
       "- **Cafés:** Make time to relax in Parisian cafes. People-watching is an essential part of the experience.\n",
       "- **Transport:** Consider purchasing a Paris Visite pass for unlimited travel on public transport.\n",
       "- **Language:** While many Parisians speak English, learning a few basic French phrases can enhance your experience.\n",
       "\n",
       "Enjoy your trip to Paris, where every corner has a story to tell and every moment is a chance to create unforgettable memories!"
      ],
      "text/plain": [
       "<IPython.core.display.Markdown object>"
      ]
     },
     "metadata": {},
     "output_type": "display_data"
    }
   ],
   "source": [
    "result = plan_trip(\"Paris\", \"museums, cafes, historical sites\")\n",
    "render_markdown(result)"
   ]
  },
  {
   "cell_type": "code",
   "execution_count": 24,
   "metadata": {},
   "outputs": [
    {
     "data": {
      "text/markdown": [
       "Tokyo is a vibrant city that perfectly blends the ultramodern with the traditional. Given your interests in technology, culture, and nightlife, here’s a suggested itinerary to make the most of your trip:\n",
       "\n",
       "### Day 1: Technology and Innovation\n",
       "\n",
       "1. **Morning: Akihabara**  \n",
       "   - Start your day in Akihabara, Tokyo's tech hub. Explore the many electronic shops, gaming arcades, and anime stores. Be sure to check out Yodobashi Camera, one of the largest electronics stores in the world.\n",
       "\n",
       "2. **Afternoon: Odaiba**  \n",
       "   - Head to Odaiba, a futuristic man-made island in Tokyo Bay. Visit teamLab Borderless, an interactive digital art museum that will immerse you in a world of light and color.\n",
       "   - Explore the Miraikan (National Museum of Emerging Science and Innovation) to see cutting-edge technology exhibits and possibly meet ASIMO, the Honda robot.\n",
       "\n",
       "3. **Evening: Tokyo Tower or Skytree**  \n",
       "   - Finish your day with a visit to Tokyo Tower or Tokyo Skytree. Both offer fantastic views of the city skyline, especially stunning at night when the city is illuminated.\n",
       "\n",
       "### Day 2: Culture and Tradition\n",
       "\n",
       "1. **Morning: Asakusa and Senso-ji Temple**  \n",
       "   - Begin with a visit to Senso-ji, Tokyo's oldest temple, located in Asakusa. Walk through the bustling Nakamise-dori street, filled with traditional snacks and souvenirs.\n",
       "\n",
       "2. **Afternoon: Ueno Park and Museums**  \n",
       "   - Visit Ueno Park, home to several museums. Depending on your interest, you could explore the Tokyo National Museum for Japanese art and history, or the National Museum of Western Art.\n",
       "\n",
       "3. **Evening: Kabukicho or Shinjuku**  \n",
       "   - Experience the vibrant nightlife of Shinjuku. Start with a stroll through Kabukicho, Tokyo's entertainment district, filled with neon lights, bars, and restaurants. Consider catching a show at the Robot Restaurant for a unique, tech-infused performance.\n",
       "\n",
       "### Day 3: Nightlife\n",
       "\n",
       "1. **Afternoon: Harajuku and Shibuya**  \n",
       "   - Spend your afternoon in Harajuku, known for its quirky fashion and youth culture. Don’t miss Takeshita Street and the Meiji Shrine nearby for a bit of tranquility.\n",
       "   - Head to Shibuya to see the famous Shibuya Crossing and enjoy shopping or dining in the area.\n",
       "\n",
       "2. **Evening: Roppongi**  \n",
       "   - Discover Roppongi's vibrant nightlife with its array of clubs, bars, and live music venues. Roppongi Hills offers a more upscale experience with restaurants and an observation deck for city views.\n",
       "\n",
       "3. **Late Night: Karaoke**  \n",
       "   - No trip to Tokyo is complete without karaoke. Find a karaoke bar, like Big Echo or Karaoke Kan, and sing the night away with friends.\n",
       "\n",
       "### Additional Tips:\n",
       "- **Transportation:** Get a prepaid Suica or Pasmo card for convenient travel on Tokyo’s efficient public transportation system.\n",
       "- **Accommodation:** Consider staying in Shinjuku or Shibuya for easy access to nightlife and transportation.\n",
       "- **Dining:** Try local specialties like sushi, ramen, and yakitori. Tokyo has a range of options from street food to Michelin-starred restaurants.\n",
       "\n",
       "By following this itinerary, you'll experience the technological marvels, rich cultural heritage, and dynamic nightlife that Tokyo has to offer. Enjoy your trip!"
      ],
      "text/plain": [
       "<IPython.core.display.Markdown object>"
      ]
     },
     "metadata": {},
     "output_type": "display_data"
    }
   ],
   "source": [
    "result = plan_trip(\"Tokyo\", \"technology, culture, nightlife\")\n",
    "render_markdown(result)"
   ]
  },
  {
   "cell_type": "code",
   "execution_count": null,
   "metadata": {},
   "outputs": [],
   "source": []
  }
 ],
 "metadata": {
  "kernelspec": {
   "display_name": ".venv",
   "language": "python",
   "name": "python3"
  },
  "language_info": {
   "codemirror_mode": {
    "name": "ipython",
    "version": 3
   },
   "file_extension": ".py",
   "mimetype": "text/x-python",
   "name": "python",
   "nbconvert_exporter": "python",
   "pygments_lexer": "ipython3",
   "version": "3.12.5"
  }
 },
 "nbformat": 4,
 "nbformat_minor": 2
}
