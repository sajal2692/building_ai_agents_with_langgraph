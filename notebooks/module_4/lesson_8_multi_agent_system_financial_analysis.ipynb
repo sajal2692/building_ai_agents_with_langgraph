{
 "cells": [
  {
   "cell_type": "markdown",
   "metadata": {},
   "source": [
    "# Building a Multi-Agent Financial Analysis System using LangGraph\n",
    "\n",
    "In this tutorial, we will build a multi-agent financial analysis system using LangGraph. This system utilizes the multi-agent supervisor pattern, where a supervisor agent orchestrates multiple specialized agents to accomplish complex tasks.\n",
    "\n",
    "In addition to the supervisor, our system will include the following agents:\n",
    "\n",
    "- Web Search Agent: Equipped with the Tavily web search tool to gather information from the web.\n",
    "- Financial Analysis Agent: Uses the Alpha Vantage API to access stock market data.\n",
    "- Code Agent: Has access to a Python REPL for generating code for data visualization.\n",
    "\n",
    "\n",
    "### Imports and Setup\n",
    "Let's start by importing the necessary libraries and setting up the environment.\n"
   ]
  },
  {
   "cell_type": "code",
   "execution_count": 71,
   "metadata": {},
   "outputs": [],
   "source": [
    "# Imports\n",
    "from langchain_openai import ChatOpenAI\n",
    "from langchain_community.tools.tavily_search import TavilySearchResults\n",
    "from langchain_community.utilities.alpha_vantage import AlphaVantageAPIWrapper\n",
    "from langchain_experimental.tools import PythonREPLTool\n",
    "from langchain_core.prompts import ChatPromptTemplate, MessagesPlaceholder\n",
    "from langchain_core.messages import AIMessage, HumanMessage\n",
    "from langgraph.graph import StateGraph, START, END\n",
    "from langgraph.prebuilt import create_react_agent\n",
    "from langgraph.checkpoint.memory import MemorySaver\n",
    "\n",
    "from typing import Annotated, Literal, Sequence\n",
    "from typing_extensions import TypedDict\n",
    "from pydantic import BaseModel\n",
    "import operator\n",
    "import functools\n",
    "\n",
    "# Load environment variables\n",
    "from dotenv import load_dotenv\n",
    "_ = load_dotenv()\n"
   ]
  },
  {
   "cell_type": "markdown",
   "metadata": {},
   "source": [
    "### Defining the Model\n",
    "\n",
    "As with the previous tutorials, we will use the `gpt-4o` model."
   ]
  },
  {
   "cell_type": "code",
   "execution_count": 72,
   "metadata": {},
   "outputs": [],
   "source": [
    "# Define the LLM\n",
    "llm = ChatOpenAI(model=\"gpt-4o\", temperature=0)"
   ]
  },
  {
   "cell_type": "markdown",
   "metadata": {},
   "source": [
    "### Defining the Tools\n",
    "\n",
    "#### 1. Current Date Tool\n",
    "We define a simple tool to get the current date. This can be useful for time-based queries."
   ]
  },
  {
   "cell_type": "code",
   "execution_count": 73,
   "metadata": {},
   "outputs": [],
   "source": [
    "from langchain_core.tools import tool\n",
    "from datetime import datetime\n",
    "\n",
    "@tool\n",
    "def get_current_date():\n",
    "    \"\"\"Returns the current date and time. Use this tool first for any time-based queries.\"\"\"\n",
    "    return f\"The current date is: {datetime.now().strftime('%d %B %Y')}\""
   ]
  },
  {
   "cell_type": "markdown",
   "metadata": {},
   "source": [
    "#### 2. Tavily Web Search Tool\n",
    "We initialize the Tavily search tool for the Web Search Agent.\n"
   ]
  },
  {
   "cell_type": "code",
   "execution_count": 74,
   "metadata": {},
   "outputs": [],
   "source": [
    "# Tavily Search Tool\n",
    "tavily_tool = TavilySearchResults(max_results=5)"
   ]
  },
  {
   "cell_type": "markdown",
   "metadata": {},
   "source": [
    "#### 3. Alpha Vantage Tool\n",
    "We create a custom tool for the Alpha Vantage API to fetch financial data."
   ]
  },
  {
   "cell_type": "code",
   "execution_count": 78,
   "metadata": {},
   "outputs": [],
   "source": [
    "# define custom tool for alpha vantage\n",
    "from langchain_core.tools import BaseTool\n",
    "\n",
    "class AlphaVantageQueryRun(BaseTool):\n",
    "    \"\"\"Tool that queries the Alpha Vantage API.\"\"\"\n",
    "\n",
    "    name: str = \"alpha_vantage\"\n",
    "    description: str = (\n",
    "        \"A wrapper around Alpha Vantage API. \"\n",
    "        \"Useful for getting financial information about stocks, \"\n",
    "        \"forex, cryptocurrencies, and economic indicators. \"\n",
    "        \"Input should be the name of the stock ticker.\"\n",
    "    )\n",
    "    api_wrapper: AlphaVantageAPIWrapper = AlphaVantageAPIWrapper()\n",
    "\n",
    "    def _run(self, ticker: str) -> str:\n",
    "        \"\"\"Use the tool.\"\"\"\n",
    "        return self.api_wrapper._get_time_series_daily(ticker)\n",
    "\n",
    "alpha_vantage_tool = AlphaVantageQueryRun()\n"
   ]
  },
  {
   "cell_type": "markdown",
   "metadata": {},
   "source": [
    "#### 4. Python REPL Tool\n",
    "We initialize the Python REPL tool for the Code Agent. Note: This tool can execute arbitrary code. Use with caution."
   ]
  },
  {
   "cell_type": "code",
   "execution_count": 79,
   "metadata": {},
   "outputs": [],
   "source": [
    "python_repl_tool = PythonREPLTool()"
   ]
  },
  {
   "cell_type": "markdown",
   "metadata": {},
   "source": [
    "### Creating the Agents\n",
    "We will create three agents, each with specific roles and tools.\n",
    "\n",
    "#### 1. Web Search Agent"
   ]
  },
  {
   "cell_type": "code",
   "execution_count": 127,
   "metadata": {},
   "outputs": [],
   "source": [
    "# Web Search Agent\n",
    "system_prompt = \"You are a web search agent. Your role is to use web search tools to find information and return comprehensive answers to queries.\"\n",
    "web_search_agent = create_react_agent(llm, tools=[tavily_tool, get_current_date], state_modifier=system_prompt)"
   ]
  },
  {
   "cell_type": "markdown",
   "metadata": {},
   "source": [
    "#### 2. Financial Analysis Agent"
   ]
  },
  {
   "cell_type": "code",
   "execution_count": 128,
   "metadata": {},
   "outputs": [],
   "source": [
    "# Financial Analysis Agent\n",
    "system_prompt = \"You are a financial analysis agent. Your role is to use the Alpha Vantage tool to gather financial data and provide concise, informative answers. \" \\\n",
    "               \"Do not generate charts or plots. Only use the tools provided to you and return a clear, text-based analysis or result.\"\n",
    "financial_agent = create_react_agent(llm, tools=[alpha_vantage_tool, get_current_date], state_modifier=system_prompt)"
   ]
  },
  {
   "cell_type": "markdown",
   "metadata": {},
   "source": [
    "#### 3. Code Agent"
   ]
  },
  {
   "cell_type": "code",
   "execution_count": 129,
   "metadata": {},
   "outputs": [],
   "source": [
    "# Code Agent\n",
    "system_prompt = \"You are a visualization agent. Your role is to create visual representations of data using Python. \" \\\n",
    "                \"Only use the Python REPL tool provided to generate plots, charts, or other visualizations. \" \\\n",
    "                \"Do not perform any data analysis or gather information. Your sole purpose is to take the given data \" \\\n",
    "                \"and create appropriate visualizations. Return the code for the visualization without executing it.\"\n",
    "code_agent = create_react_agent(llm, tools=[python_repl_tool], state_modifier=system_prompt)\n"
   ]
  },
  {
   "cell_type": "markdown",
   "metadata": {},
   "source": [
    "#### 4. Supervisor Agent\n",
    "The supervisor agent manages the workflow by deciding which agent should handle the next task.\n"
   ]
  },
  {
   "cell_type": "code",
   "execution_count": 141,
   "metadata": {},
   "outputs": [],
   "source": [
    "# Define team members\n",
    "members = {\n",
    "    \"WebSearchAgent\": \"An agent that performs web searches to gather information\",\n",
    "    \"FinancialAgent\": \"An agent that analyzes financial data using Polygon tools to acquire stock market information.\",\n",
    "    \"CodeAgent\": \"An agent that executes Python code and performs computations. Use this to generate plots and tables.\"\n",
    "}\n",
    "\n",
    "# Supervisor Prompt Template\n",
    "system_prompt = (\n",
    "    \"You are a highly efficient supervisor managing a collaborative conversation between specialized agents:\"\n",
    "    \"\\n{members_description}\"\n",
    "    \"\\nYour role is to:\"\n",
    "    \"\\n1. Analyze the user's request and the ongoing conversation.\"\n",
    "    \"\\n2. Determine which agent is best suited to handle the next task.\"\n",
    "    \"\\n3. Ensure a logical flow of information and task execution.\"\n",
    "    \"\\n4. Correctly detect task completion and responsd with 'FINISH', especially when visual outputs like plots are generated.\"\n",
    "    \"   For example, if the CodeAgent returns the code for drawing a plot or visualization, consider the task complete if drawing a plot was the objective.\"\n",
    "    \"   If the CodeAgent returns an image, consider the plot as drawn and the task complete if drawing a plot was the objective.\"\n",
    "    \"\\n5. Facilitate seamless transitions between agents as needed.\"\n",
    "    \"\\n6. Conclude the process by responding with 'FINISH' when all objectives are met.\"\n",
    "    \" Remember, each agent has unique capabilities, so choose wisely based on the current needs of the task.\"\n",
    ")\n",
    "\n",
    "members_description = \"\\n\".join([f\"- {k}: {v}\" for k, v in members.items()])\n",
    "\n",
    "system_prompt = system_prompt.format(members_description=members_description)\n",
    "\n",
    "# Possible options for the supervisor\n",
    "options = [\"FINISH\"] + list(members.keys())\n",
    "\n",
    "# Define the supervisor's output schema\n",
    "class RouteResponse(BaseModel):\n",
    "    \"\"\"\n",
    "    The supervisor's response to the user's request.\n",
    "    \"\"\"\n",
    "    next: Literal[\"FINISH\", \"WebSearchAgent\", \"FinancialAgent\", \"CodeAgent\"]\n",
    "\n",
    "# Supervisor Prompt\n",
    "supervisor_prompt = ChatPromptTemplate.from_messages(\n",
    "    [\n",
    "        (\"system\", system_prompt),\n",
    "        MessagesPlaceholder(variable_name=\"messages\"),\n",
    "        (\n",
    "            \"system\",\n",
    "            \"Based on the conversation, who should act next? Choose one of: {options}\",\n",
    "        ),\n",
    "    ]\n",
    ").partial(options=str(options), members=\", \".join([f\"{k}: {v}\" for k, v in members.items()]))\n",
    "\n",
    "# Supervisor Agent Function\n",
    "def supervisor_agent(state):\n",
    "    supervisor_chain = supervisor_prompt | llm.with_structured_output(RouteResponse)\n",
    "    return supervisor_chain.invoke(state)"
   ]
  },
  {
   "cell_type": "markdown",
   "metadata": {},
   "source": [
    "### Constructing the Graph\n",
    "We define the state, nodes, and edges for our graph."
   ]
  },
  {
   "cell_type": "code",
   "execution_count": 142,
   "metadata": {},
   "outputs": [],
   "source": [
    "# Define the state\n",
    "class AgentState(TypedDict):\n",
    "    messages: Annotated[Sequence[HumanMessage], operator.add]\n",
    "    next: str"
   ]
  },
  {
   "cell_type": "code",
   "execution_count": 143,
   "metadata": {},
   "outputs": [],
   "source": [
    "# Helper Function for Agent Nodes\n",
    "def agent_node(state, agent, name):\n",
    "    result = agent.invoke({\"messages\": state[\"messages\"]})\n",
    "    # Add the agent's response to the conversation\n",
    "    return {\n",
    "        \"messages\": [AIMessage(content=result[\"messages\"][-1].content, name=name)]\n",
    "    }"
   ]
  },
  {
   "cell_type": "markdown",
   "metadata": {},
   "source": [
    "#### Defining the Agent Nodes"
   ]
  },
  {
   "cell_type": "code",
   "execution_count": 144,
   "metadata": {},
   "outputs": [],
   "source": [
    "# Web Search Node\n",
    "web_search_node = functools.partial(agent_node, agent=web_search_agent, name=\"WebSearchAgent\")\n",
    "\n",
    "# Financial Analysis Node\n",
    "financial_node = functools.partial(agent_node, agent=financial_agent, name=\"FinancialAgent\")\n",
    "\n",
    "# Code Agent Node\n",
    "code_node = functools.partial(agent_node, agent=code_agent, name=\"CodeAgent\")\n"
   ]
  },
  {
   "cell_type": "markdown",
   "metadata": {},
   "source": [
    "#### Building the Graph"
   ]
  },
  {
   "cell_type": "code",
   "execution_count": 145,
   "metadata": {},
   "outputs": [],
   "source": [
    "# Initialize the graph\n",
    "workflow = StateGraph(AgentState)\n",
    "\n",
    "# Add nodes\n",
    "workflow.add_node(\"WebSearchAgent\", web_search_node)\n",
    "workflow.add_node(\"FinancialAgent\", financial_node)\n",
    "workflow.add_node(\"CodeAgent\", code_node)\n",
    "workflow.add_node(\"Supervisor\", supervisor_agent)\n",
    "\n",
    "# Define edges\n",
    "for member in members:\n",
    "    # Each agent reports back to the supervisor\n",
    "    workflow.add_edge(member, \"Supervisor\")\n",
    "\n",
    "# Supervisor decides the next agent or to finish\n",
    "conditional_map = {member: member for member in members}\n",
    "conditional_map[\"FINISH\"] = END\n",
    "workflow.add_conditional_edges(\"Supervisor\", lambda x: x[\"next\"], conditional_map)\n",
    "\n",
    "# Entry point\n",
    "workflow.add_edge(START, \"Supervisor\")\n",
    "\n",
    "# Compile the graph with memory checkpointing\n",
    "memory = MemorySaver()\n",
    "graph = workflow.compile(checkpointer=memory)\n"
   ]
  },
  {
   "cell_type": "markdown",
   "metadata": {},
   "source": [
    "#### Visualizing the Graph"
   ]
  },
  {
   "cell_type": "code",
   "execution_count": 135,
   "metadata": {},
   "outputs": [
    {
     "data": {
      "image/jpeg": "[encoded data removed]",
      "text/plain": [
       "<IPython.core.display.Image object>"
      ]
     },
     "metadata": {},
     "output_type": "display_data"
    }
   ],
   "source": [
    "from IPython.display import display, Image\n",
    "\n",
    "# Visualize the chatbot's workflow\n",
    "try:\n",
    "    display(Image(graph.get_graph().draw_mermaid_png()))\n",
    "except Exception:\n",
    "    pass  # Visualization requires additional dependencies"
   ]
  },
  {
   "cell_type": "markdown",
   "metadata": {},
   "source": [
    "### Running the Multi-Agent System\n",
    "\n",
    "We run the multi-agent system with different queries to demonstrate its capabilities.\n"
   ]
  },
  {
   "cell_type": "code",
   "execution_count": 136,
   "metadata": {},
   "outputs": [],
   "source": [
    "# Helper Function to Process Events\n",
    "def process_event(event):\n",
    "    print(event)\n",
    "    if \"__end__\" not in event:\n",
    "        if \"messages\" in event:\n",
    "            agent_name = event[\"messages\"][-1].name\n",
    "            content = event[\"messages\"][-1].content\n",
    "            print(f\"=== {agent_name} ===\\n{content}\\n\")\n",
    "        elif \"next\" in event:\n",
    "            print(f\"Supervisor decides the next agent: {event['next']}\\n\")\n"
   ]
  },
  {
   "cell_type": "markdown",
   "metadata": {},
   "source": [
    "#### Example 1: Fetching the Latest Closing Stock Price\n",
    "User Request: \"What was the last closing stock price of AAPL?\"\n"
   ]
  },
  {
   "cell_type": "code",
   "execution_count": 138,
   "metadata": {},
   "outputs": [
    {
     "name": "stdout",
     "output_type": "stream",
     "text": [
      "{'Supervisor': {'next': 'FinancialAgent'}}\n",
      "{'FinancialAgent': {'messages': [AIMessage(content='The last closing stock price of Apple Inc. (AAPL) was $235.00 on October 18, 2024.', additional_kwargs={}, response_metadata={}, name='FinancialAgent')]}}\n",
      "{'Supervisor': {'next': 'FINISH'}}\n"
     ]
    }
   ],
   "source": [
    "# Be sure to use different thread_ids for different runs\n",
    "config = {\"configurable\": {\"thread_id\": \"1\"}}\n",
    "\n",
    "# Run the graph\n",
    "events = graph.stream(\n",
    "    {\"messages\": [HumanMessage(content=\"What was the last closing stock price of AAPL?\")]},\n",
    "    config=config\n",
    ")\n",
    "\n",
    "for event in events:\n",
    "    process_event(event)\n"
   ]
  },
  {
   "cell_type": "markdown",
   "metadata": {},
   "source": [
    "#### Example 2: Summarizing Latest News\n",
    "User Request: \"Summarize the latest news about Tesla's stock performance.\"\n"
   ]
  },
  {
   "cell_type": "code",
   "execution_count": 139,
   "metadata": {},
   "outputs": [
    {
     "name": "stdout",
     "output_type": "stream",
     "text": [
      "{'Supervisor': {'next': 'WebSearchAgent'}}\n",
      "{'WebSearchAgent': {'messages': [AIMessage(content=\"As of October 2024, Tesla's stock performance has been influenced by several key events and financial updates:\\n\\n1. **Stock Price Movement**: Tesla's stock experienced a slight increase earlier in the week, but it remains 8% lower compared to its value before a recent robotaxi event. This suggests some volatility in the stock price following the event.\\n\\n2. **Financial Performance**: In 2023, Tesla reported a revenue of $96.77 billion, marking an 18.80% increase from the previous year. This growth reflects strong financial performance, which could impact investor sentiment positively.\\n\\n3. **Upcoming Earnings Report**: Tesla is set to release its third-quarter results on October 23, 2024. This upcoming report is likely to cause further volatility in Tesla's stock price as investors react to the new financial data.\\n\\n4. **Analyst Expectations**: Analysts have been adjusting their expectations for Tesla. For instance, Piper Sandler raised its price target for Tesla to $310, up from $300, and increased the Q3 delivery estimate to 459,000 units, with a projection of 1.75 million vehicles for 2024.\\n\\nOverall, Tesla's stock is currently experiencing fluctuations due to recent events and upcoming financial disclosures, with analysts maintaining a positive outlook on its long-term performance.\", additional_kwargs={}, response_metadata={}, name='WebSearchAgent')]}}\n",
      "{'Supervisor': {'next': 'FINISH'}}\n"
     ]
    }
   ],
   "source": [
    "config = {\"configurable\": {\"thread_id\": \"2\"}}\n",
    "\n",
    "# Run the graph\n",
    "events = graph.stream(\n",
    "    {\"messages\": [HumanMessage(content=\"Summarize the latest news about Tesla's stock performance.\")]},\n",
    "    config=config\n",
    ")\n",
    "\n",
    "for event in events:\n",
    "    process_event(event)\n"
   ]
  },
  {
   "cell_type": "markdown",
   "metadata": {},
   "source": [
    "#### Example 3: Generating a Stock Price Plot\n",
    "User Request: \"Draw a plot of the closing stock prices of AAPL over the last week, with the x-axis being the closing dates.\"\n"
   ]
  },
  {
   "cell_type": "code",
   "execution_count": 146,
   "metadata": {},
   "outputs": [
    {
     "name": "stdout",
     "output_type": "stream",
     "text": [
      "{'Supervisor': {'next': 'FinancialAgent'}}\n",
      "{'FinancialAgent': {'messages': [AIMessage(content='Here are the closing stock prices for AAPL over the last week:\\n\\n- **October 18, 2024**: $235.00\\n- **October 17, 2024**: $232.15\\n- **October 16, 2024**: $231.78\\n- **October 15, 2024**: $233.85\\n- **October 14, 2024**: $231.30\\n- **October 11, 2024**: $227.55\\n\\nThese are the closing prices for the most recent trading days. If you need further analysis or information, feel free to ask!', additional_kwargs={}, response_metadata={}, name='FinancialAgent')]}}\n",
      "{'Supervisor': {'next': 'CodeAgent'}}\n"
     ]
    },
    {
     "data": {
      "image/png": "[encoded data removed]",
      "text/plain": [
       "<Figure size 1000x500 with 1 Axes>"
      ]
     },
     "metadata": {},
     "output_type": "display_data"
    },
    {
     "name": "stdout",
     "output_type": "stream",
     "text": [
      "{'CodeAgent': {'messages': [AIMessage(content=\"Here's the code to plot the closing stock prices of AAPL over the last week:\\n\\n```python\\nimport matplotlib.pyplot as plt\\n\\n# Dates and closing prices for AAPL\\nclosing_dates = ['October 11, 2024', 'October 14, 2024', 'October 15, 2024', 'October 16, 2024', 'October 17, 2024', 'October 18, 2024']\\nclosing_prices = [227.55, 231.30, 233.85, 231.78, 232.15, 235.00]\\n\\n# Plotting the data\\nplt.figure(figsize=(10, 5))\\nplt.plot(closing_dates, closing_prices, marker='o')\\nplt.title('AAPL Closing Stock Prices Over the Last Week')\\nplt.xlabel('Date')\\nplt.ylabel('Closing Price (USD)')\\nplt.xticks(rotation=45)\\nplt.grid(True)\\nplt.tight_layout()\\nplt.show()\\n```\\n\\nThis code will create a line plot with markers for each closing price, showing the trend over the specified dates.\", additional_kwargs={}, response_metadata={}, name='CodeAgent')]}}\n",
      "{'Supervisor': {'next': 'FINISH'}}\n"
     ]
    }
   ],
   "source": [
    "config = {\"configurable\": {\"thread_id\": \"3\"}}\n",
    "\n",
    "# Run the graph\n",
    "events = graph.stream(\n",
    "    {\"messages\": [HumanMessage(content=\"Draw a plot of the closing stock prices of AAPL over the last week, with the x axis being the closing dates.\")]},\n",
    "    config=config\n",
    ")\n",
    "\n",
    "for event in events:\n",
    "    process_event(event)"
   ]
  },
  {
   "cell_type": "markdown",
   "metadata": {},
   "source": [
    "### Congratulations!\n",
    "By following this tutorial, you've built a sophisticated multi-agent system capable of handling complex financial analysis tasks by leveraging the power of LangGraph and specialized agents.\n",
    "\n",
    "Feel free to experiment further by:\n",
    "\n",
    "- Changing the stock ticker symbol to analyze a different company.\n",
    "- Modifying the system prompts for each agent to adjust behavior and task focus.\n",
    "- Adding external APIs like Yahoo Finance or Reuters for broader financial data.\n",
    "- Adjusting the supervisor to add reflection steps and introduce multiple iterations for quality improvement."
   ]
  }
 ],
 "metadata": {
  "kernelspec": {
   "display_name": ".venv",
   "language": "python",
   "name": "python3"
  },
  "language_info": {
   "codemirror_mode": {
    "name": "ipython",
    "version": 3
   },
   "file_extension": ".py",
   "mimetype": "text/x-python",
   "name": "python",
   "nbconvert_exporter": "python",
   "pygments_lexer": "ipython3",
   "version": "3.12.5"
  }
 },
 "nbformat": 4,
 "nbformat_minor": 2
}
